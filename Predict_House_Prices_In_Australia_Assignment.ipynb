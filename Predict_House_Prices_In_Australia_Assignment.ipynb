{
 "cells": [
  {
   "cell_type": "markdown",
   "id": "0d3383ae",
   "metadata": {},
   "source": [
    "# Introduction\n",
    "\n",
    "In this project we are focused on building the advanced regression model using regularisation to understand the variables which are significant in predicting the price of a house & how well those variables describe the price of a house which will then be used by the management to manipulate strategy as per price variation with variables."
   ]
  },
  {
   "cell_type": "markdown",
   "id": "f04ca8e6",
   "metadata": {},
   "source": [
    "---"
   ]
  },
  {
   "cell_type": "markdown",
   "id": "65560ca5",
   "metadata": {},
   "source": [
    "# Problem Statement\n",
    "\n",
    "A US-based housing company named Surprise Housing has decided to enter the Australian market. The company uses data analytics to purchase houses at a price below their actual values and flip them on at a higher price. For the same purpose, the company has collected a data set from the sale of houses in Australia. The data is provided in the CSV file below.\n",
    "\n",
    " \n",
    "\n",
    "The company is looking at prospective properties to buy to enter the market. You are required to build a regression model using regularisation in order to predict the actual value of the prospective properties and decide whether to invest in them or not.\n",
    "\n",
    " \n",
    "\n",
    "<b>The company wants to know:</b>\n",
    "1. Which variables are significant in predicting the price of a house, and\n",
    "2. How well those variables describe the price of a house.\n",
    "\n",
    " \n",
    "\n",
    "Also, determine the optimal value of lambda for ridge and lasso regression."
   ]
  },
  {
   "cell_type": "markdown",
   "id": "dc56e543",
   "metadata": {},
   "source": [
    "---"
   ]
  },
  {
   "cell_type": "markdown",
   "id": "2cdf093c",
   "metadata": {},
   "source": [
    "# Business Objective\n",
    "\n",
    "Required to model the price of houses with the available independent variables. This model will then be used by the management to understand how exactly the prices vary with the variables. They can accordingly manipulate the strategy of the firm and concentrate on areas that will yield high returns. Further, the model will be a good way for management to understand the pricing dynamics of a new market."
   ]
  },
  {
   "cell_type": "markdown",
   "id": "3f6199bb",
   "metadata": {},
   "source": [
    "---"
   ]
  },
  {
   "cell_type": "markdown",
   "id": "ed744482",
   "metadata": {},
   "source": [
    "# Solution Approach\n",
    "\n",
    "1. Reading, Understanding & Cleaning the Data\n",
    "2. Visualising the Data\n",
    "3. Data Preparation for modelling\n",
    "4. Splitting the Data into Training and Testing Sets\n",
    "5. Model Building and Evaluation\n",
    "6. Ridge Regression\n",
    "7. Lasso Regression\n",
    "8. Model Comparison\n",
    "9. Conclusion"
   ]
  },
  {
   "cell_type": "markdown",
   "id": "095a4703",
   "metadata": {},
   "source": [
    "----"
   ]
  },
  {
   "cell_type": "markdown",
   "id": "4e9c91ed",
   "metadata": {},
   "source": [
    "# <u>Importing required libraries</u>"
   ]
  },
  {
   "cell_type": "code",
   "execution_count": 1,
   "id": "c158d91f",
   "metadata": {},
   "outputs": [],
   "source": [
    "import numpy as np\n",
    "import pandas as pd\n",
    "import matplotlib.pyplot as plt\n",
    "import seaborn as sns\n",
    "\n",
    "from sklearn.model_selection import train_test_split, GridSearchCV\n",
    "from sklearn.preprocessing import MinMaxScaler\n",
    "from sklearn.feature_selection import RFE\n",
    "from sklearn.linear_model import LinearRegression, Ridge, Lasso\n",
    "from statsmodels.stats.outliers_influence import variance_inflation_factor\n",
    "import statsmodels.api as sm\n",
    "from sklearn.metrics import r2_score, mean_squared_error\n",
    "\n",
    "import warnings\n",
    "warnings.filterwarnings('ignore')"
   ]
  },
  {
   "cell_type": "markdown",
   "id": "1bc41e42",
   "metadata": {},
   "source": [
    "# <u>Step 1: Reading, Understanding & Cleaning the Data</u>"
   ]
  },
  {
   "cell_type": "code",
   "execution_count": 2,
   "id": "469e86cd",
   "metadata": {},
   "outputs": [],
   "source": [
    "# Loading data from csv\n",
    "\n",
    "housesale_data = pd.read_csv(\"train.csv\")"
   ]
  },
  {
   "cell_type": "markdown",
   "id": "1cd4b4c0",
   "metadata": {},
   "source": [
    "## Data Understanding"
   ]
  },
  {
   "cell_type": "code",
   "execution_count": 3,
   "id": "de431d93",
   "metadata": {},
   "outputs": [
    {
     "data": {
      "text/plain": [
       "(1460, 81)"
      ]
     },
     "execution_count": 3,
     "metadata": {},
     "output_type": "execute_result"
    }
   ],
   "source": [
    "# Checking rows and columns in dataset\n",
    "housesale_data.shape"
   ]
  },
  {
   "cell_type": "code",
   "execution_count": 4,
   "id": "ea4b44c6",
   "metadata": {},
   "outputs": [
    {
     "name": "stdout",
     "output_type": "stream",
     "text": [
      "<class 'pandas.core.frame.DataFrame'>\n",
      "RangeIndex: 1460 entries, 0 to 1459\n",
      "Data columns (total 81 columns):\n",
      " #   Column         Non-Null Count  Dtype  \n",
      "---  ------         --------------  -----  \n",
      " 0   Id             1460 non-null   int64  \n",
      " 1   MSSubClass     1460 non-null   int64  \n",
      " 2   MSZoning       1460 non-null   object \n",
      " 3   LotFrontage    1201 non-null   float64\n",
      " 4   LotArea        1460 non-null   int64  \n",
      " 5   Street         1460 non-null   object \n",
      " 6   Alley          91 non-null     object \n",
      " 7   LotShape       1460 non-null   object \n",
      " 8   LandContour    1460 non-null   object \n",
      " 9   Utilities      1460 non-null   object \n",
      " 10  LotConfig      1460 non-null   object \n",
      " 11  LandSlope      1460 non-null   object \n",
      " 12  Neighborhood   1460 non-null   object \n",
      " 13  Condition1     1460 non-null   object \n",
      " 14  Condition2     1460 non-null   object \n",
      " 15  BldgType       1460 non-null   object \n",
      " 16  HouseStyle     1460 non-null   object \n",
      " 17  OverallQual    1460 non-null   int64  \n",
      " 18  OverallCond    1460 non-null   int64  \n",
      " 19  YearBuilt      1460 non-null   int64  \n",
      " 20  YearRemodAdd   1460 non-null   int64  \n",
      " 21  RoofStyle      1460 non-null   object \n",
      " 22  RoofMatl       1460 non-null   object \n",
      " 23  Exterior1st    1460 non-null   object \n",
      " 24  Exterior2nd    1460 non-null   object \n",
      " 25  MasVnrType     1452 non-null   object \n",
      " 26  MasVnrArea     1452 non-null   float64\n",
      " 27  ExterQual      1460 non-null   object \n",
      " 28  ExterCond      1460 non-null   object \n",
      " 29  Foundation     1460 non-null   object \n",
      " 30  BsmtQual       1423 non-null   object \n",
      " 31  BsmtCond       1423 non-null   object \n",
      " 32  BsmtExposure   1422 non-null   object \n",
      " 33  BsmtFinType1   1423 non-null   object \n",
      " 34  BsmtFinSF1     1460 non-null   int64  \n",
      " 35  BsmtFinType2   1422 non-null   object \n",
      " 36  BsmtFinSF2     1460 non-null   int64  \n",
      " 37  BsmtUnfSF      1460 non-null   int64  \n",
      " 38  TotalBsmtSF    1460 non-null   int64  \n",
      " 39  Heating        1460 non-null   object \n",
      " 40  HeatingQC      1460 non-null   object \n",
      " 41  CentralAir     1460 non-null   object \n",
      " 42  Electrical     1459 non-null   object \n",
      " 43  1stFlrSF       1460 non-null   int64  \n",
      " 44  2ndFlrSF       1460 non-null   int64  \n",
      " 45  LowQualFinSF   1460 non-null   int64  \n",
      " 46  GrLivArea      1460 non-null   int64  \n",
      " 47  BsmtFullBath   1460 non-null   int64  \n",
      " 48  BsmtHalfBath   1460 non-null   int64  \n",
      " 49  FullBath       1460 non-null   int64  \n",
      " 50  HalfBath       1460 non-null   int64  \n",
      " 51  BedroomAbvGr   1460 non-null   int64  \n",
      " 52  KitchenAbvGr   1460 non-null   int64  \n",
      " 53  KitchenQual    1460 non-null   object \n",
      " 54  TotRmsAbvGrd   1460 non-null   int64  \n",
      " 55  Functional     1460 non-null   object \n",
      " 56  Fireplaces     1460 non-null   int64  \n",
      " 57  FireplaceQu    770 non-null    object \n",
      " 58  GarageType     1379 non-null   object \n",
      " 59  GarageYrBlt    1379 non-null   float64\n",
      " 60  GarageFinish   1379 non-null   object \n",
      " 61  GarageCars     1460 non-null   int64  \n",
      " 62  GarageArea     1460 non-null   int64  \n",
      " 63  GarageQual     1379 non-null   object \n",
      " 64  GarageCond     1379 non-null   object \n",
      " 65  PavedDrive     1460 non-null   object \n",
      " 66  WoodDeckSF     1460 non-null   int64  \n",
      " 67  OpenPorchSF    1460 non-null   int64  \n",
      " 68  EnclosedPorch  1460 non-null   int64  \n",
      " 69  3SsnPorch      1460 non-null   int64  \n",
      " 70  ScreenPorch    1460 non-null   int64  \n",
      " 71  PoolArea       1460 non-null   int64  \n",
      " 72  PoolQC         7 non-null      object \n",
      " 73  Fence          281 non-null    object \n",
      " 74  MiscFeature    54 non-null     object \n",
      " 75  MiscVal        1460 non-null   int64  \n",
      " 76  MoSold         1460 non-null   int64  \n",
      " 77  YrSold         1460 non-null   int64  \n",
      " 78  SaleType       1460 non-null   object \n",
      " 79  SaleCondition  1460 non-null   object \n",
      " 80  SalePrice      1460 non-null   int64  \n",
      "dtypes: float64(3), int64(35), object(43)\n",
      "memory usage: 924.0+ KB\n"
     ]
    }
   ],
   "source": [
    "# Checking general information about dataset, mostly to see various datatypes available in dataset\n",
    "housesale_data.info()"
   ]
  },
  {
   "cell_type": "code",
   "execution_count": 5,
   "id": "10eb40e2",
   "metadata": {},
   "outputs": [
    {
     "data": {
      "text/html": [
       "<div>\n",
       "<style scoped>\n",
       "    .dataframe tbody tr th:only-of-type {\n",
       "        vertical-align: middle;\n",
       "    }\n",
       "\n",
       "    .dataframe tbody tr th {\n",
       "        vertical-align: top;\n",
       "    }\n",
       "\n",
       "    .dataframe thead th {\n",
       "        text-align: right;\n",
       "    }\n",
       "</style>\n",
       "<table border=\"1\" class=\"dataframe\">\n",
       "  <thead>\n",
       "    <tr style=\"text-align: right;\">\n",
       "      <th></th>\n",
       "      <th>Id</th>\n",
       "      <th>MSSubClass</th>\n",
       "      <th>MSZoning</th>\n",
       "      <th>LotFrontage</th>\n",
       "      <th>LotArea</th>\n",
       "      <th>Street</th>\n",
       "      <th>Alley</th>\n",
       "      <th>LotShape</th>\n",
       "      <th>LandContour</th>\n",
       "      <th>Utilities</th>\n",
       "      <th>...</th>\n",
       "      <th>PoolArea</th>\n",
       "      <th>PoolQC</th>\n",
       "      <th>Fence</th>\n",
       "      <th>MiscFeature</th>\n",
       "      <th>MiscVal</th>\n",
       "      <th>MoSold</th>\n",
       "      <th>YrSold</th>\n",
       "      <th>SaleType</th>\n",
       "      <th>SaleCondition</th>\n",
       "      <th>SalePrice</th>\n",
       "    </tr>\n",
       "  </thead>\n",
       "  <tbody>\n",
       "    <tr>\n",
       "      <th>0</th>\n",
       "      <td>1</td>\n",
       "      <td>60</td>\n",
       "      <td>RL</td>\n",
       "      <td>65.0</td>\n",
       "      <td>8450</td>\n",
       "      <td>Pave</td>\n",
       "      <td>NaN</td>\n",
       "      <td>Reg</td>\n",
       "      <td>Lvl</td>\n",
       "      <td>AllPub</td>\n",
       "      <td>...</td>\n",
       "      <td>0</td>\n",
       "      <td>NaN</td>\n",
       "      <td>NaN</td>\n",
       "      <td>NaN</td>\n",
       "      <td>0</td>\n",
       "      <td>2</td>\n",
       "      <td>2008</td>\n",
       "      <td>WD</td>\n",
       "      <td>Normal</td>\n",
       "      <td>208500</td>\n",
       "    </tr>\n",
       "    <tr>\n",
       "      <th>1</th>\n",
       "      <td>2</td>\n",
       "      <td>20</td>\n",
       "      <td>RL</td>\n",
       "      <td>80.0</td>\n",
       "      <td>9600</td>\n",
       "      <td>Pave</td>\n",
       "      <td>NaN</td>\n",
       "      <td>Reg</td>\n",
       "      <td>Lvl</td>\n",
       "      <td>AllPub</td>\n",
       "      <td>...</td>\n",
       "      <td>0</td>\n",
       "      <td>NaN</td>\n",
       "      <td>NaN</td>\n",
       "      <td>NaN</td>\n",
       "      <td>0</td>\n",
       "      <td>5</td>\n",
       "      <td>2007</td>\n",
       "      <td>WD</td>\n",
       "      <td>Normal</td>\n",
       "      <td>181500</td>\n",
       "    </tr>\n",
       "    <tr>\n",
       "      <th>2</th>\n",
       "      <td>3</td>\n",
       "      <td>60</td>\n",
       "      <td>RL</td>\n",
       "      <td>68.0</td>\n",
       "      <td>11250</td>\n",
       "      <td>Pave</td>\n",
       "      <td>NaN</td>\n",
       "      <td>IR1</td>\n",
       "      <td>Lvl</td>\n",
       "      <td>AllPub</td>\n",
       "      <td>...</td>\n",
       "      <td>0</td>\n",
       "      <td>NaN</td>\n",
       "      <td>NaN</td>\n",
       "      <td>NaN</td>\n",
       "      <td>0</td>\n",
       "      <td>9</td>\n",
       "      <td>2008</td>\n",
       "      <td>WD</td>\n",
       "      <td>Normal</td>\n",
       "      <td>223500</td>\n",
       "    </tr>\n",
       "    <tr>\n",
       "      <th>3</th>\n",
       "      <td>4</td>\n",
       "      <td>70</td>\n",
       "      <td>RL</td>\n",
       "      <td>60.0</td>\n",
       "      <td>9550</td>\n",
       "      <td>Pave</td>\n",
       "      <td>NaN</td>\n",
       "      <td>IR1</td>\n",
       "      <td>Lvl</td>\n",
       "      <td>AllPub</td>\n",
       "      <td>...</td>\n",
       "      <td>0</td>\n",
       "      <td>NaN</td>\n",
       "      <td>NaN</td>\n",
       "      <td>NaN</td>\n",
       "      <td>0</td>\n",
       "      <td>2</td>\n",
       "      <td>2006</td>\n",
       "      <td>WD</td>\n",
       "      <td>Abnorml</td>\n",
       "      <td>140000</td>\n",
       "    </tr>\n",
       "    <tr>\n",
       "      <th>4</th>\n",
       "      <td>5</td>\n",
       "      <td>60</td>\n",
       "      <td>RL</td>\n",
       "      <td>84.0</td>\n",
       "      <td>14260</td>\n",
       "      <td>Pave</td>\n",
       "      <td>NaN</td>\n",
       "      <td>IR1</td>\n",
       "      <td>Lvl</td>\n",
       "      <td>AllPub</td>\n",
       "      <td>...</td>\n",
       "      <td>0</td>\n",
       "      <td>NaN</td>\n",
       "      <td>NaN</td>\n",
       "      <td>NaN</td>\n",
       "      <td>0</td>\n",
       "      <td>12</td>\n",
       "      <td>2008</td>\n",
       "      <td>WD</td>\n",
       "      <td>Normal</td>\n",
       "      <td>250000</td>\n",
       "    </tr>\n",
       "  </tbody>\n",
       "</table>\n",
       "<p>5 rows × 81 columns</p>\n",
       "</div>"
      ],
      "text/plain": [
       "   Id  MSSubClass MSZoning  LotFrontage  LotArea Street Alley LotShape  \\\n",
       "0   1          60       RL         65.0     8450   Pave   NaN      Reg   \n",
       "1   2          20       RL         80.0     9600   Pave   NaN      Reg   \n",
       "2   3          60       RL         68.0    11250   Pave   NaN      IR1   \n",
       "3   4          70       RL         60.0     9550   Pave   NaN      IR1   \n",
       "4   5          60       RL         84.0    14260   Pave   NaN      IR1   \n",
       "\n",
       "  LandContour Utilities  ... PoolArea PoolQC Fence MiscFeature MiscVal MoSold  \\\n",
       "0         Lvl    AllPub  ...        0    NaN   NaN         NaN       0      2   \n",
       "1         Lvl    AllPub  ...        0    NaN   NaN         NaN       0      5   \n",
       "2         Lvl    AllPub  ...        0    NaN   NaN         NaN       0      9   \n",
       "3         Lvl    AllPub  ...        0    NaN   NaN         NaN       0      2   \n",
       "4         Lvl    AllPub  ...        0    NaN   NaN         NaN       0     12   \n",
       "\n",
       "  YrSold  SaleType  SaleCondition  SalePrice  \n",
       "0   2008        WD         Normal     208500  \n",
       "1   2007        WD         Normal     181500  \n",
       "2   2008        WD         Normal     223500  \n",
       "3   2006        WD        Abnorml     140000  \n",
       "4   2008        WD         Normal     250000  \n",
       "\n",
       "[5 rows x 81 columns]"
      ]
     },
     "execution_count": 5,
     "metadata": {},
     "output_type": "execute_result"
    }
   ],
   "source": [
    "# Quick data view & also checking if any extra header rows present\n",
    "housesale_data.head()"
   ]
  },
  {
   "cell_type": "code",
   "execution_count": 6,
   "id": "af0fdf13",
   "metadata": {},
   "outputs": [
    {
     "data": {
      "text/html": [
       "<div>\n",
       "<style scoped>\n",
       "    .dataframe tbody tr th:only-of-type {\n",
       "        vertical-align: middle;\n",
       "    }\n",
       "\n",
       "    .dataframe tbody tr th {\n",
       "        vertical-align: top;\n",
       "    }\n",
       "\n",
       "    .dataframe thead th {\n",
       "        text-align: right;\n",
       "    }\n",
       "</style>\n",
       "<table border=\"1\" class=\"dataframe\">\n",
       "  <thead>\n",
       "    <tr style=\"text-align: right;\">\n",
       "      <th></th>\n",
       "      <th>Id</th>\n",
       "      <th>MSSubClass</th>\n",
       "      <th>MSZoning</th>\n",
       "      <th>LotFrontage</th>\n",
       "      <th>LotArea</th>\n",
       "      <th>Street</th>\n",
       "      <th>Alley</th>\n",
       "      <th>LotShape</th>\n",
       "      <th>LandContour</th>\n",
       "      <th>Utilities</th>\n",
       "      <th>...</th>\n",
       "      <th>PoolArea</th>\n",
       "      <th>PoolQC</th>\n",
       "      <th>Fence</th>\n",
       "      <th>MiscFeature</th>\n",
       "      <th>MiscVal</th>\n",
       "      <th>MoSold</th>\n",
       "      <th>YrSold</th>\n",
       "      <th>SaleType</th>\n",
       "      <th>SaleCondition</th>\n",
       "      <th>SalePrice</th>\n",
       "    </tr>\n",
       "  </thead>\n",
       "  <tbody>\n",
       "    <tr>\n",
       "      <th>1455</th>\n",
       "      <td>1456</td>\n",
       "      <td>60</td>\n",
       "      <td>RL</td>\n",
       "      <td>62.0</td>\n",
       "      <td>7917</td>\n",
       "      <td>Pave</td>\n",
       "      <td>NaN</td>\n",
       "      <td>Reg</td>\n",
       "      <td>Lvl</td>\n",
       "      <td>AllPub</td>\n",
       "      <td>...</td>\n",
       "      <td>0</td>\n",
       "      <td>NaN</td>\n",
       "      <td>NaN</td>\n",
       "      <td>NaN</td>\n",
       "      <td>0</td>\n",
       "      <td>8</td>\n",
       "      <td>2007</td>\n",
       "      <td>WD</td>\n",
       "      <td>Normal</td>\n",
       "      <td>175000</td>\n",
       "    </tr>\n",
       "    <tr>\n",
       "      <th>1456</th>\n",
       "      <td>1457</td>\n",
       "      <td>20</td>\n",
       "      <td>RL</td>\n",
       "      <td>85.0</td>\n",
       "      <td>13175</td>\n",
       "      <td>Pave</td>\n",
       "      <td>NaN</td>\n",
       "      <td>Reg</td>\n",
       "      <td>Lvl</td>\n",
       "      <td>AllPub</td>\n",
       "      <td>...</td>\n",
       "      <td>0</td>\n",
       "      <td>NaN</td>\n",
       "      <td>MnPrv</td>\n",
       "      <td>NaN</td>\n",
       "      <td>0</td>\n",
       "      <td>2</td>\n",
       "      <td>2010</td>\n",
       "      <td>WD</td>\n",
       "      <td>Normal</td>\n",
       "      <td>210000</td>\n",
       "    </tr>\n",
       "    <tr>\n",
       "      <th>1457</th>\n",
       "      <td>1458</td>\n",
       "      <td>70</td>\n",
       "      <td>RL</td>\n",
       "      <td>66.0</td>\n",
       "      <td>9042</td>\n",
       "      <td>Pave</td>\n",
       "      <td>NaN</td>\n",
       "      <td>Reg</td>\n",
       "      <td>Lvl</td>\n",
       "      <td>AllPub</td>\n",
       "      <td>...</td>\n",
       "      <td>0</td>\n",
       "      <td>NaN</td>\n",
       "      <td>GdPrv</td>\n",
       "      <td>Shed</td>\n",
       "      <td>2500</td>\n",
       "      <td>5</td>\n",
       "      <td>2010</td>\n",
       "      <td>WD</td>\n",
       "      <td>Normal</td>\n",
       "      <td>266500</td>\n",
       "    </tr>\n",
       "    <tr>\n",
       "      <th>1458</th>\n",
       "      <td>1459</td>\n",
       "      <td>20</td>\n",
       "      <td>RL</td>\n",
       "      <td>68.0</td>\n",
       "      <td>9717</td>\n",
       "      <td>Pave</td>\n",
       "      <td>NaN</td>\n",
       "      <td>Reg</td>\n",
       "      <td>Lvl</td>\n",
       "      <td>AllPub</td>\n",
       "      <td>...</td>\n",
       "      <td>0</td>\n",
       "      <td>NaN</td>\n",
       "      <td>NaN</td>\n",
       "      <td>NaN</td>\n",
       "      <td>0</td>\n",
       "      <td>4</td>\n",
       "      <td>2010</td>\n",
       "      <td>WD</td>\n",
       "      <td>Normal</td>\n",
       "      <td>142125</td>\n",
       "    </tr>\n",
       "    <tr>\n",
       "      <th>1459</th>\n",
       "      <td>1460</td>\n",
       "      <td>20</td>\n",
       "      <td>RL</td>\n",
       "      <td>75.0</td>\n",
       "      <td>9937</td>\n",
       "      <td>Pave</td>\n",
       "      <td>NaN</td>\n",
       "      <td>Reg</td>\n",
       "      <td>Lvl</td>\n",
       "      <td>AllPub</td>\n",
       "      <td>...</td>\n",
       "      <td>0</td>\n",
       "      <td>NaN</td>\n",
       "      <td>NaN</td>\n",
       "      <td>NaN</td>\n",
       "      <td>0</td>\n",
       "      <td>6</td>\n",
       "      <td>2008</td>\n",
       "      <td>WD</td>\n",
       "      <td>Normal</td>\n",
       "      <td>147500</td>\n",
       "    </tr>\n",
       "  </tbody>\n",
       "</table>\n",
       "<p>5 rows × 81 columns</p>\n",
       "</div>"
      ],
      "text/plain": [
       "        Id  MSSubClass MSZoning  LotFrontage  LotArea Street Alley LotShape  \\\n",
       "1455  1456          60       RL         62.0     7917   Pave   NaN      Reg   \n",
       "1456  1457          20       RL         85.0    13175   Pave   NaN      Reg   \n",
       "1457  1458          70       RL         66.0     9042   Pave   NaN      Reg   \n",
       "1458  1459          20       RL         68.0     9717   Pave   NaN      Reg   \n",
       "1459  1460          20       RL         75.0     9937   Pave   NaN      Reg   \n",
       "\n",
       "     LandContour Utilities  ... PoolArea PoolQC  Fence MiscFeature MiscVal  \\\n",
       "1455         Lvl    AllPub  ...        0    NaN    NaN         NaN       0   \n",
       "1456         Lvl    AllPub  ...        0    NaN  MnPrv         NaN       0   \n",
       "1457         Lvl    AllPub  ...        0    NaN  GdPrv        Shed    2500   \n",
       "1458         Lvl    AllPub  ...        0    NaN    NaN         NaN       0   \n",
       "1459         Lvl    AllPub  ...        0    NaN    NaN         NaN       0   \n",
       "\n",
       "     MoSold YrSold  SaleType  SaleCondition  SalePrice  \n",
       "1455      8   2007        WD         Normal     175000  \n",
       "1456      2   2010        WD         Normal     210000  \n",
       "1457      5   2010        WD         Normal     266500  \n",
       "1458      4   2010        WD         Normal     142125  \n",
       "1459      6   2008        WD         Normal     147500  \n",
       "\n",
       "[5 rows x 81 columns]"
      ]
     },
     "execution_count": 6,
     "metadata": {},
     "output_type": "execute_result"
    }
   ],
   "source": [
    "# Checking if any extra rows present at bottom eg. total rows\n",
    "housesale_data.tail()"
   ]
  },
  {
   "cell_type": "code",
   "execution_count": 7,
   "id": "515c0d20",
   "metadata": {},
   "outputs": [
    {
     "data": {
      "text/html": [
       "<div>\n",
       "<style scoped>\n",
       "    .dataframe tbody tr th:only-of-type {\n",
       "        vertical-align: middle;\n",
       "    }\n",
       "\n",
       "    .dataframe tbody tr th {\n",
       "        vertical-align: top;\n",
       "    }\n",
       "\n",
       "    .dataframe thead th {\n",
       "        text-align: right;\n",
       "    }\n",
       "</style>\n",
       "<table border=\"1\" class=\"dataframe\">\n",
       "  <thead>\n",
       "    <tr style=\"text-align: right;\">\n",
       "      <th></th>\n",
       "      <th>Id</th>\n",
       "      <th>MSSubClass</th>\n",
       "      <th>LotFrontage</th>\n",
       "      <th>LotArea</th>\n",
       "      <th>OverallQual</th>\n",
       "      <th>OverallCond</th>\n",
       "      <th>YearBuilt</th>\n",
       "      <th>YearRemodAdd</th>\n",
       "      <th>MasVnrArea</th>\n",
       "      <th>BsmtFinSF1</th>\n",
       "      <th>...</th>\n",
       "      <th>WoodDeckSF</th>\n",
       "      <th>OpenPorchSF</th>\n",
       "      <th>EnclosedPorch</th>\n",
       "      <th>3SsnPorch</th>\n",
       "      <th>ScreenPorch</th>\n",
       "      <th>PoolArea</th>\n",
       "      <th>MiscVal</th>\n",
       "      <th>MoSold</th>\n",
       "      <th>YrSold</th>\n",
       "      <th>SalePrice</th>\n",
       "    </tr>\n",
       "  </thead>\n",
       "  <tbody>\n",
       "    <tr>\n",
       "      <th>count</th>\n",
       "      <td>1460.000000</td>\n",
       "      <td>1460.000000</td>\n",
       "      <td>1201.000000</td>\n",
       "      <td>1460.000000</td>\n",
       "      <td>1460.000000</td>\n",
       "      <td>1460.000000</td>\n",
       "      <td>1460.000000</td>\n",
       "      <td>1460.000000</td>\n",
       "      <td>1452.000000</td>\n",
       "      <td>1460.000000</td>\n",
       "      <td>...</td>\n",
       "      <td>1460.000000</td>\n",
       "      <td>1460.000000</td>\n",
       "      <td>1460.000000</td>\n",
       "      <td>1460.000000</td>\n",
       "      <td>1460.000000</td>\n",
       "      <td>1460.000000</td>\n",
       "      <td>1460.000000</td>\n",
       "      <td>1460.000000</td>\n",
       "      <td>1460.000000</td>\n",
       "      <td>1460.000000</td>\n",
       "    </tr>\n",
       "    <tr>\n",
       "      <th>mean</th>\n",
       "      <td>730.500000</td>\n",
       "      <td>56.897260</td>\n",
       "      <td>70.049958</td>\n",
       "      <td>10516.828082</td>\n",
       "      <td>6.099315</td>\n",
       "      <td>5.575342</td>\n",
       "      <td>1971.267808</td>\n",
       "      <td>1984.865753</td>\n",
       "      <td>103.685262</td>\n",
       "      <td>443.639726</td>\n",
       "      <td>...</td>\n",
       "      <td>94.244521</td>\n",
       "      <td>46.660274</td>\n",
       "      <td>21.954110</td>\n",
       "      <td>3.409589</td>\n",
       "      <td>15.060959</td>\n",
       "      <td>2.758904</td>\n",
       "      <td>43.489041</td>\n",
       "      <td>6.321918</td>\n",
       "      <td>2007.815753</td>\n",
       "      <td>180921.195890</td>\n",
       "    </tr>\n",
       "    <tr>\n",
       "      <th>std</th>\n",
       "      <td>421.610009</td>\n",
       "      <td>42.300571</td>\n",
       "      <td>24.284752</td>\n",
       "      <td>9981.264932</td>\n",
       "      <td>1.382997</td>\n",
       "      <td>1.112799</td>\n",
       "      <td>30.202904</td>\n",
       "      <td>20.645407</td>\n",
       "      <td>181.066207</td>\n",
       "      <td>456.098091</td>\n",
       "      <td>...</td>\n",
       "      <td>125.338794</td>\n",
       "      <td>66.256028</td>\n",
       "      <td>61.119149</td>\n",
       "      <td>29.317331</td>\n",
       "      <td>55.757415</td>\n",
       "      <td>40.177307</td>\n",
       "      <td>496.123024</td>\n",
       "      <td>2.703626</td>\n",
       "      <td>1.328095</td>\n",
       "      <td>79442.502883</td>\n",
       "    </tr>\n",
       "    <tr>\n",
       "      <th>min</th>\n",
       "      <td>1.000000</td>\n",
       "      <td>20.000000</td>\n",
       "      <td>21.000000</td>\n",
       "      <td>1300.000000</td>\n",
       "      <td>1.000000</td>\n",
       "      <td>1.000000</td>\n",
       "      <td>1872.000000</td>\n",
       "      <td>1950.000000</td>\n",
       "      <td>0.000000</td>\n",
       "      <td>0.000000</td>\n",
       "      <td>...</td>\n",
       "      <td>0.000000</td>\n",
       "      <td>0.000000</td>\n",
       "      <td>0.000000</td>\n",
       "      <td>0.000000</td>\n",
       "      <td>0.000000</td>\n",
       "      <td>0.000000</td>\n",
       "      <td>0.000000</td>\n",
       "      <td>1.000000</td>\n",
       "      <td>2006.000000</td>\n",
       "      <td>34900.000000</td>\n",
       "    </tr>\n",
       "    <tr>\n",
       "      <th>25%</th>\n",
       "      <td>365.750000</td>\n",
       "      <td>20.000000</td>\n",
       "      <td>59.000000</td>\n",
       "      <td>7553.500000</td>\n",
       "      <td>5.000000</td>\n",
       "      <td>5.000000</td>\n",
       "      <td>1954.000000</td>\n",
       "      <td>1967.000000</td>\n",
       "      <td>0.000000</td>\n",
       "      <td>0.000000</td>\n",
       "      <td>...</td>\n",
       "      <td>0.000000</td>\n",
       "      <td>0.000000</td>\n",
       "      <td>0.000000</td>\n",
       "      <td>0.000000</td>\n",
       "      <td>0.000000</td>\n",
       "      <td>0.000000</td>\n",
       "      <td>0.000000</td>\n",
       "      <td>5.000000</td>\n",
       "      <td>2007.000000</td>\n",
       "      <td>129975.000000</td>\n",
       "    </tr>\n",
       "    <tr>\n",
       "      <th>50%</th>\n",
       "      <td>730.500000</td>\n",
       "      <td>50.000000</td>\n",
       "      <td>69.000000</td>\n",
       "      <td>9478.500000</td>\n",
       "      <td>6.000000</td>\n",
       "      <td>5.000000</td>\n",
       "      <td>1973.000000</td>\n",
       "      <td>1994.000000</td>\n",
       "      <td>0.000000</td>\n",
       "      <td>383.500000</td>\n",
       "      <td>...</td>\n",
       "      <td>0.000000</td>\n",
       "      <td>25.000000</td>\n",
       "      <td>0.000000</td>\n",
       "      <td>0.000000</td>\n",
       "      <td>0.000000</td>\n",
       "      <td>0.000000</td>\n",
       "      <td>0.000000</td>\n",
       "      <td>6.000000</td>\n",
       "      <td>2008.000000</td>\n",
       "      <td>163000.000000</td>\n",
       "    </tr>\n",
       "    <tr>\n",
       "      <th>75%</th>\n",
       "      <td>1095.250000</td>\n",
       "      <td>70.000000</td>\n",
       "      <td>80.000000</td>\n",
       "      <td>11601.500000</td>\n",
       "      <td>7.000000</td>\n",
       "      <td>6.000000</td>\n",
       "      <td>2000.000000</td>\n",
       "      <td>2004.000000</td>\n",
       "      <td>166.000000</td>\n",
       "      <td>712.250000</td>\n",
       "      <td>...</td>\n",
       "      <td>168.000000</td>\n",
       "      <td>68.000000</td>\n",
       "      <td>0.000000</td>\n",
       "      <td>0.000000</td>\n",
       "      <td>0.000000</td>\n",
       "      <td>0.000000</td>\n",
       "      <td>0.000000</td>\n",
       "      <td>8.000000</td>\n",
       "      <td>2009.000000</td>\n",
       "      <td>214000.000000</td>\n",
       "    </tr>\n",
       "    <tr>\n",
       "      <th>max</th>\n",
       "      <td>1460.000000</td>\n",
       "      <td>190.000000</td>\n",
       "      <td>313.000000</td>\n",
       "      <td>215245.000000</td>\n",
       "      <td>10.000000</td>\n",
       "      <td>9.000000</td>\n",
       "      <td>2010.000000</td>\n",
       "      <td>2010.000000</td>\n",
       "      <td>1600.000000</td>\n",
       "      <td>5644.000000</td>\n",
       "      <td>...</td>\n",
       "      <td>857.000000</td>\n",
       "      <td>547.000000</td>\n",
       "      <td>552.000000</td>\n",
       "      <td>508.000000</td>\n",
       "      <td>480.000000</td>\n",
       "      <td>738.000000</td>\n",
       "      <td>15500.000000</td>\n",
       "      <td>12.000000</td>\n",
       "      <td>2010.000000</td>\n",
       "      <td>755000.000000</td>\n",
       "    </tr>\n",
       "  </tbody>\n",
       "</table>\n",
       "<p>8 rows × 38 columns</p>\n",
       "</div>"
      ],
      "text/plain": [
       "                Id   MSSubClass  LotFrontage        LotArea  OverallQual  \\\n",
       "count  1460.000000  1460.000000  1201.000000    1460.000000  1460.000000   \n",
       "mean    730.500000    56.897260    70.049958   10516.828082     6.099315   \n",
       "std     421.610009    42.300571    24.284752    9981.264932     1.382997   \n",
       "min       1.000000    20.000000    21.000000    1300.000000     1.000000   \n",
       "25%     365.750000    20.000000    59.000000    7553.500000     5.000000   \n",
       "50%     730.500000    50.000000    69.000000    9478.500000     6.000000   \n",
       "75%    1095.250000    70.000000    80.000000   11601.500000     7.000000   \n",
       "max    1460.000000   190.000000   313.000000  215245.000000    10.000000   \n",
       "\n",
       "       OverallCond    YearBuilt  YearRemodAdd   MasVnrArea   BsmtFinSF1  ...  \\\n",
       "count  1460.000000  1460.000000   1460.000000  1452.000000  1460.000000  ...   \n",
       "mean      5.575342  1971.267808   1984.865753   103.685262   443.639726  ...   \n",
       "std       1.112799    30.202904     20.645407   181.066207   456.098091  ...   \n",
       "min       1.000000  1872.000000   1950.000000     0.000000     0.000000  ...   \n",
       "25%       5.000000  1954.000000   1967.000000     0.000000     0.000000  ...   \n",
       "50%       5.000000  1973.000000   1994.000000     0.000000   383.500000  ...   \n",
       "75%       6.000000  2000.000000   2004.000000   166.000000   712.250000  ...   \n",
       "max       9.000000  2010.000000   2010.000000  1600.000000  5644.000000  ...   \n",
       "\n",
       "        WoodDeckSF  OpenPorchSF  EnclosedPorch    3SsnPorch  ScreenPorch  \\\n",
       "count  1460.000000  1460.000000    1460.000000  1460.000000  1460.000000   \n",
       "mean     94.244521    46.660274      21.954110     3.409589    15.060959   \n",
       "std     125.338794    66.256028      61.119149    29.317331    55.757415   \n",
       "min       0.000000     0.000000       0.000000     0.000000     0.000000   \n",
       "25%       0.000000     0.000000       0.000000     0.000000     0.000000   \n",
       "50%       0.000000    25.000000       0.000000     0.000000     0.000000   \n",
       "75%     168.000000    68.000000       0.000000     0.000000     0.000000   \n",
       "max     857.000000   547.000000     552.000000   508.000000   480.000000   \n",
       "\n",
       "          PoolArea       MiscVal       MoSold       YrSold      SalePrice  \n",
       "count  1460.000000   1460.000000  1460.000000  1460.000000    1460.000000  \n",
       "mean      2.758904     43.489041     6.321918  2007.815753  180921.195890  \n",
       "std      40.177307    496.123024     2.703626     1.328095   79442.502883  \n",
       "min       0.000000      0.000000     1.000000  2006.000000   34900.000000  \n",
       "25%       0.000000      0.000000     5.000000  2007.000000  129975.000000  \n",
       "50%       0.000000      0.000000     6.000000  2008.000000  163000.000000  \n",
       "75%       0.000000      0.000000     8.000000  2009.000000  214000.000000  \n",
       "max     738.000000  15500.000000    12.000000  2010.000000  755000.000000  \n",
       "\n",
       "[8 rows x 38 columns]"
      ]
     },
     "execution_count": 7,
     "metadata": {},
     "output_type": "execute_result"
    }
   ],
   "source": [
    "# Checking the columns via describe\n",
    "\n",
    "housesale_data.describe()"
   ]
  },
  {
   "cell_type": "markdown",
   "id": "c8aa4833",
   "metadata": {},
   "source": [
    "## Data Cleaning"
   ]
  },
  {
   "cell_type": "code",
   "execution_count": 8,
   "id": "ad891a2f",
   "metadata": {},
   "outputs": [
    {
     "name": "stdout",
     "output_type": "stream",
     "text": [
      "Empty DataFrame\n",
      "Columns: [Id, MSSubClass, MSZoning, LotFrontage, LotArea, Street, Alley, LotShape, LandContour, Utilities, LotConfig, LandSlope, Neighborhood, Condition1, Condition2, BldgType, HouseStyle, OverallQual, OverallCond, YearBuilt, YearRemodAdd, RoofStyle, RoofMatl, Exterior1st, Exterior2nd, MasVnrType, MasVnrArea, ExterQual, ExterCond, Foundation, BsmtQual, BsmtCond, BsmtExposure, BsmtFinType1, BsmtFinSF1, BsmtFinType2, BsmtFinSF2, BsmtUnfSF, TotalBsmtSF, Heating, HeatingQC, CentralAir, Electrical, 1stFlrSF, 2ndFlrSF, LowQualFinSF, GrLivArea, BsmtFullBath, BsmtHalfBath, FullBath, HalfBath, BedroomAbvGr, KitchenAbvGr, KitchenQual, TotRmsAbvGrd, Functional, Fireplaces, FireplaceQu, GarageType, GarageYrBlt, GarageFinish, GarageCars, GarageArea, GarageQual, GarageCond, PavedDrive, WoodDeckSF, OpenPorchSF, EnclosedPorch, 3SsnPorch, ScreenPorch, PoolArea, PoolQC, Fence, MiscFeature, MiscVal, MoSold, YrSold, SaleType, SaleCondition, SalePrice]\n",
      "Index: []\n",
      "\n",
      "[0 rows x 81 columns]\n"
     ]
    }
   ],
   "source": [
    "# Checking if any blank rows in dataset, if yes we would have to remove it\n",
    "blank_rows = housesale_data[housesale_data.isnull().all(axis=1)]\n",
    "\n",
    "# Print the blank rows\n",
    "print(blank_rows)"
   ]
  },
  {
   "cell_type": "markdown",
   "id": "5d363c4d",
   "metadata": {},
   "source": [
    "- There are no blank rows in data set as well"
   ]
  },
  {
   "cell_type": "code",
   "execution_count": 9,
   "id": "f096dee4",
   "metadata": {},
   "outputs": [
    {
     "name": "stdout",
     "output_type": "stream",
     "text": [
      "0\n"
     ]
    }
   ],
   "source": [
    "# Checking duplicate rows in data\n",
    "\n",
    "print(housesale_data.duplicated().sum())"
   ]
  },
  {
   "cell_type": "markdown",
   "id": "53a31fc5",
   "metadata": {},
   "source": [
    "- There are no duplicate rows in data set"
   ]
  },
  {
   "cell_type": "code",
   "execution_count": 10,
   "id": "2be4145c",
   "metadata": {},
   "outputs": [
    {
     "data": {
      "text/plain": [
       "Index(['Id'], dtype='object')"
      ]
     },
     "execution_count": 10,
     "metadata": {},
     "output_type": "execute_result"
    }
   ],
   "source": [
    "# Get columns with all unique values\n",
    "unique_value_columns = housesale_data.columns[housesale_data.nunique() == len(housesale_data)]\n",
    "\n",
    "unique_value_columns"
   ]
  },
  {
   "cell_type": "code",
   "execution_count": 11,
   "id": "d696c38f",
   "metadata": {},
   "outputs": [],
   "source": [
    "# Lets drop the ID column as it cannot be used for analysis\n",
    "housesale_data = housesale_data.drop('Id',axis='columns')"
   ]
  },
  {
   "cell_type": "code",
   "execution_count": 12,
   "id": "5026112e",
   "metadata": {},
   "outputs": [
    {
     "data": {
      "text/plain": [
       "(1460, 80)"
      ]
     },
     "execution_count": 12,
     "metadata": {},
     "output_type": "execute_result"
    }
   ],
   "source": [
    "# Checking shape of housesale_data after to verify if column count is as expected\n",
    "housesale_data.shape"
   ]
  },
  {
   "cell_type": "markdown",
   "id": "2d1cb3b7",
   "metadata": {},
   "source": [
    "#### Handling NULL Values in Columns"
   ]
  },
  {
   "cell_type": "code",
   "execution_count": 13,
   "id": "69131d45",
   "metadata": {},
   "outputs": [
    {
     "data": {
      "text/plain": [
       "PoolQC         99.52\n",
       "MiscFeature    96.30\n",
       "Alley          93.77\n",
       "Fence          80.75\n",
       "FireplaceQu    47.26\n",
       "               ...  \n",
       "Heating         0.00\n",
       "HeatingQC       0.00\n",
       "MSZoning        0.00\n",
       "1stFlrSF        0.00\n",
       "SalePrice       0.00\n",
       "Length: 80, dtype: float64"
      ]
     },
     "execution_count": 13,
     "metadata": {},
     "output_type": "execute_result"
    }
   ],
   "source": [
    "# Checking % of null present in all columns to see if any columns we can drop\n",
    "\n",
    "null_percent_per_column = ((housesale_data.isnull().sum() / len(housesale_data)) * 100)\n",
    "\n",
    "null_percent_per_column.round(2).sort_values(ascending=False)"
   ]
  },
  {
   "cell_type": "code",
   "execution_count": 14,
   "id": "7f072453",
   "metadata": {},
   "outputs": [
    {
     "data": {
      "text/plain": [
       "(1460, 76)"
      ]
     },
     "execution_count": 14,
     "metadata": {},
     "output_type": "execute_result"
    }
   ],
   "source": [
    "# Dropping columns with more than 80% NULL Values in it\n",
    "\n",
    "cols_to_drop = ['PoolQC', 'MiscFeature', 'Alley', 'Fence']\n",
    "housesale_data.drop(cols_to_drop, axis = 1, inplace=True)\n",
    "\n",
    "# Checking shape of housesale_data after to verify if column count is as expected\n",
    "housesale_data.shape"
   ]
  },
  {
   "cell_type": "code",
   "execution_count": 15,
   "id": "fe7a19ee",
   "metadata": {},
   "outputs": [
    {
     "data": {
      "text/plain": [
       "FireplaceQu     690\n",
       "LotFrontage     259\n",
       "GarageType       81\n",
       "GarageYrBlt      81\n",
       "GarageFinish     81\n",
       "GarageQual       81\n",
       "GarageCond       81\n",
       "BsmtExposure     38\n",
       "BsmtFinType2     38\n",
       "BsmtQual         37\n",
       "BsmtCond         37\n",
       "BsmtFinType1     37\n",
       "MasVnrType        8\n",
       "MasVnrArea        8\n",
       "Electrical        1\n",
       "Fireplaces        0\n",
       "KitchenQual       0\n",
       "KitchenAbvGr      0\n",
       "BedroomAbvGr      0\n",
       "HalfBath          0\n",
       "dtype: int64"
      ]
     },
     "execution_count": 15,
     "metadata": {},
     "output_type": "execute_result"
    }
   ],
   "source": [
    "# Check remaining columns and NULL values in it\n",
    "housesale_data.isna().sum().sort_values(ascending = False).head(20)"
   ]
  },
  {
   "cell_type": "code",
   "execution_count": 16,
   "id": "5b9e67fa",
   "metadata": {},
   "outputs": [],
   "source": [
    "# Accoridng to the data defination - NA value have a real meaning in few variables\n",
    "# e.g. FireplaceQu NA means 'No Fireplace', GarageType NA means 'No Garage'\n",
    "# So replacing 'NA' values with 'None' value in such vaiables makes sense so python does not consider them as NULL\n",
    "\n",
    "columns_having_meaningful_NA_value = ['FireplaceQu', 'GarageType', 'GarageFinish', 'GarageQual', 'GarageCond', \n",
    "                                    'BsmtExposure', 'BsmtFinType2', 'BsmtQual', 'BsmtCond', 'BsmtFinType1']\n",
    "\n",
    "for col in columns_having_meaningful_NA_value:\n",
    "    housesale_data[col] = housesale_data[col].fillna('None')\n",
    "    "
   ]
  },
  {
   "cell_type": "code",
   "execution_count": 17,
   "id": "539f70d8",
   "metadata": {},
   "outputs": [
    {
     "data": {
      "text/plain": [
       "LotFrontage     259\n",
       "GarageYrBlt      81\n",
       "MasVnrType        8\n",
       "MasVnrArea        8\n",
       "Electrical        1\n",
       "KitchenAbvGr      0\n",
       "FireplaceQu       0\n",
       "Fireplaces        0\n",
       "Functional        0\n",
       "TotRmsAbvGrd      0\n",
       "KitchenQual       0\n",
       "MSSubClass        0\n",
       "GarageType        0\n",
       "HalfBath          0\n",
       "FullBath          0\n",
       "BsmtHalfBath      0\n",
       "BsmtFullBath      0\n",
       "GrLivArea         0\n",
       "LowQualFinSF      0\n",
       "2ndFlrSF          0\n",
       "dtype: int64"
      ]
     },
     "execution_count": 17,
     "metadata": {},
     "output_type": "execute_result"
    }
   ],
   "source": [
    "# Check remaining columns and NULL values in it\n",
    "housesale_data.isna().sum().sort_values(ascending = False).head(20)"
   ]
  },
  {
   "cell_type": "code",
   "execution_count": 18,
   "id": "a9f94dc4",
   "metadata": {},
   "outputs": [
    {
     "data": {
      "text/html": [
       "<div>\n",
       "<style scoped>\n",
       "    .dataframe tbody tr th:only-of-type {\n",
       "        vertical-align: middle;\n",
       "    }\n",
       "\n",
       "    .dataframe tbody tr th {\n",
       "        vertical-align: top;\n",
       "    }\n",
       "\n",
       "    .dataframe thead th {\n",
       "        text-align: right;\n",
       "    }\n",
       "</style>\n",
       "<table border=\"1\" class=\"dataframe\">\n",
       "  <thead>\n",
       "    <tr style=\"text-align: right;\">\n",
       "      <th></th>\n",
       "      <th>GarageYrBlt</th>\n",
       "      <th>LotFrontage</th>\n",
       "      <th>MasVnrType</th>\n",
       "      <th>MasVnrArea</th>\n",
       "      <th>Electrical</th>\n",
       "    </tr>\n",
       "  </thead>\n",
       "  <tbody>\n",
       "    <tr>\n",
       "      <th>0</th>\n",
       "      <td>2003.0</td>\n",
       "      <td>65.0</td>\n",
       "      <td>BrkFace</td>\n",
       "      <td>196.0</td>\n",
       "      <td>SBrkr</td>\n",
       "    </tr>\n",
       "    <tr>\n",
       "      <th>1</th>\n",
       "      <td>1976.0</td>\n",
       "      <td>80.0</td>\n",
       "      <td>None</td>\n",
       "      <td>0.0</td>\n",
       "      <td>SBrkr</td>\n",
       "    </tr>\n",
       "    <tr>\n",
       "      <th>2</th>\n",
       "      <td>2001.0</td>\n",
       "      <td>68.0</td>\n",
       "      <td>BrkFace</td>\n",
       "      <td>162.0</td>\n",
       "      <td>SBrkr</td>\n",
       "    </tr>\n",
       "    <tr>\n",
       "      <th>3</th>\n",
       "      <td>1998.0</td>\n",
       "      <td>60.0</td>\n",
       "      <td>None</td>\n",
       "      <td>0.0</td>\n",
       "      <td>SBrkr</td>\n",
       "    </tr>\n",
       "    <tr>\n",
       "      <th>4</th>\n",
       "      <td>2000.0</td>\n",
       "      <td>84.0</td>\n",
       "      <td>BrkFace</td>\n",
       "      <td>350.0</td>\n",
       "      <td>SBrkr</td>\n",
       "    </tr>\n",
       "    <tr>\n",
       "      <th>...</th>\n",
       "      <td>...</td>\n",
       "      <td>...</td>\n",
       "      <td>...</td>\n",
       "      <td>...</td>\n",
       "      <td>...</td>\n",
       "    </tr>\n",
       "    <tr>\n",
       "      <th>1455</th>\n",
       "      <td>1999.0</td>\n",
       "      <td>62.0</td>\n",
       "      <td>None</td>\n",
       "      <td>0.0</td>\n",
       "      <td>SBrkr</td>\n",
       "    </tr>\n",
       "    <tr>\n",
       "      <th>1456</th>\n",
       "      <td>1978.0</td>\n",
       "      <td>85.0</td>\n",
       "      <td>Stone</td>\n",
       "      <td>119.0</td>\n",
       "      <td>SBrkr</td>\n",
       "    </tr>\n",
       "    <tr>\n",
       "      <th>1457</th>\n",
       "      <td>1941.0</td>\n",
       "      <td>66.0</td>\n",
       "      <td>None</td>\n",
       "      <td>0.0</td>\n",
       "      <td>SBrkr</td>\n",
       "    </tr>\n",
       "    <tr>\n",
       "      <th>1458</th>\n",
       "      <td>1950.0</td>\n",
       "      <td>68.0</td>\n",
       "      <td>None</td>\n",
       "      <td>0.0</td>\n",
       "      <td>FuseA</td>\n",
       "    </tr>\n",
       "    <tr>\n",
       "      <th>1459</th>\n",
       "      <td>1965.0</td>\n",
       "      <td>75.0</td>\n",
       "      <td>None</td>\n",
       "      <td>0.0</td>\n",
       "      <td>SBrkr</td>\n",
       "    </tr>\n",
       "  </tbody>\n",
       "</table>\n",
       "<p>1460 rows × 5 columns</p>\n",
       "</div>"
      ],
      "text/plain": [
       "      GarageYrBlt  LotFrontage MasVnrType  MasVnrArea Electrical\n",
       "0          2003.0         65.0    BrkFace       196.0      SBrkr\n",
       "1          1976.0         80.0       None         0.0      SBrkr\n",
       "2          2001.0         68.0    BrkFace       162.0      SBrkr\n",
       "3          1998.0         60.0       None         0.0      SBrkr\n",
       "4          2000.0         84.0    BrkFace       350.0      SBrkr\n",
       "...           ...          ...        ...         ...        ...\n",
       "1455       1999.0         62.0       None         0.0      SBrkr\n",
       "1456       1978.0         85.0      Stone       119.0      SBrkr\n",
       "1457       1941.0         66.0       None         0.0      SBrkr\n",
       "1458       1950.0         68.0       None         0.0      FuseA\n",
       "1459       1965.0         75.0       None         0.0      SBrkr\n",
       "\n",
       "[1460 rows x 5 columns]"
      ]
     },
     "execution_count": 18,
     "metadata": {},
     "output_type": "execute_result"
    }
   ],
   "source": [
    "# Checking values in LotFrontage, GarageYrBlt, MasVnrType, MasVnrArea, Electrical column\n",
    "housesale_data[['GarageYrBlt', 'LotFrontage', 'MasVnrType', 'MasVnrArea', 'Electrical']]"
   ]
  },
  {
   "cell_type": "code",
   "execution_count": 19,
   "id": "6d9a2234",
   "metadata": {},
   "outputs": [],
   "source": [
    "# Filling LotFrontage Continuous variables with median value\n",
    "housesale_data['LotFrontage']= housesale_data['LotFrontage'].fillna(housesale_data['LotFrontage'].median())\n",
    "\n",
    "# Filling GarageYrBlt Continuous variables with median value\n",
    "housesale_data['GarageYrBlt']= housesale_data['GarageYrBlt'].fillna(0.0)\n",
    "\n",
    "# Filling MasVnrType with None (No Masonry veneer)\n",
    "housesale_data['MasVnrType']= housesale_data['MasVnrType'].fillna('None')\n",
    "\n",
    "# Filling MasVnrArea with 0 (No Masonry veneer - zero area)\n",
    "housesale_data['MasVnrArea']= housesale_data['MasVnrArea'].fillna(0)\n",
    "\n",
    "# Filling Electrical with mode value (SBrkr)\n",
    "housesale_data['Electrical']= housesale_data['Electrical'].fillna(housesale_data['Electrical'].mode()[0])\n",
    "\n",
    "# Columns left with null values = ['LotFrontage', 'MasVnrArea' , 'MasVnrType', 'Electrical']"
   ]
  },
  {
   "cell_type": "code",
   "execution_count": 20,
   "id": "55b7a80b",
   "metadata": {},
   "outputs": [
    {
     "data": {
      "text/plain": [
       "MSSubClass      0\n",
       "HalfBath        0\n",
       "FireplaceQu     0\n",
       "Fireplaces      0\n",
       "Functional      0\n",
       "TotRmsAbvGrd    0\n",
       "KitchenQual     0\n",
       "KitchenAbvGr    0\n",
       "BedroomAbvGr    0\n",
       "FullBath        0\n",
       "MSZoning        0\n",
       "BsmtHalfBath    0\n",
       "BsmtFullBath    0\n",
       "GrLivArea       0\n",
       "LowQualFinSF    0\n",
       "2ndFlrSF        0\n",
       "1stFlrSF        0\n",
       "Electrical      0\n",
       "GarageType      0\n",
       "GarageYrBlt     0\n",
       "dtype: int64"
      ]
     },
     "execution_count": 20,
     "metadata": {},
     "output_type": "execute_result"
    }
   ],
   "source": [
    "# Check remaining columns and NULL values in it\n",
    "housesale_data.isna().sum().sort_values(ascending = False).head(20)"
   ]
  },
  {
   "cell_type": "markdown",
   "id": "fe84dbdd",
   "metadata": {},
   "source": [
    "#### All Null values are handled now"
   ]
  },
  {
   "cell_type": "code",
   "execution_count": 21,
   "id": "47ff1cc4",
   "metadata": {},
   "outputs": [
    {
     "data": {
      "text/plain": [
       "CentralAir        2\n",
       "Street            2\n",
       "Utilities         2\n",
       "LandSlope         3\n",
       "HalfBath          3\n",
       "               ... \n",
       "TotalBsmtSF     721\n",
       "1stFlrSF        753\n",
       "BsmtUnfSF       780\n",
       "GrLivArea       861\n",
       "LotArea        1073\n",
       "Length: 76, dtype: int64"
      ]
     },
     "execution_count": 21,
     "metadata": {},
     "output_type": "execute_result"
    }
   ],
   "source": [
    "# Get columns and number of unique values in housesale_data\n",
    "unique_value_counts_per_column = housesale_data.nunique()\n",
    "\n",
    "unique_value_counts_per_column.sort_values()"
   ]
  },
  {
   "cell_type": "markdown",
   "id": "542a6546",
   "metadata": {},
   "source": [
    "- There are no columns with only 1 (single) value in it so we would need all columns"
   ]
  },
  {
   "cell_type": "markdown",
   "id": "565a4d9a",
   "metadata": {},
   "source": [
    "## Derived Features"
   ]
  },
  {
   "cell_type": "code",
   "execution_count": 22,
   "id": "3f130da8",
   "metadata": {},
   "outputs": [
    {
     "data": {
      "text/plain": [
       "(1460, 77)"
      ]
     },
     "execution_count": 22,
     "metadata": {},
     "output_type": "execute_result"
    }
   ],
   "source": [
    "# we can calculate property age at the time of sale generally older properties have low value, age of property can be important variable\n",
    "housesale_data['houseAge'] = housesale_data['YrSold'] - housesale_data['YearBuilt']\n",
    "housesale_data.shape"
   ]
  },
  {
   "cell_type": "markdown",
   "id": "eca98d36",
   "metadata": {},
   "source": [
    "## Managing Outliers"
   ]
  },
  {
   "cell_type": "code",
   "execution_count": 23,
   "id": "f3bdac21",
   "metadata": {},
   "outputs": [
    {
     "name": "stdout",
     "output_type": "stream",
     "text": [
      "Total number of Numeric columns: 38\n"
     ]
    }
   ],
   "source": [
    "numeric_columns = housesale_data.select_dtypes(exclude=object).columns\n",
    "print('Total number of Numeric columns: ' + str(len(numeric_columns)))"
   ]
  },
  {
   "cell_type": "code",
   "execution_count": 24,
   "id": "89080f18",
   "metadata": {},
   "outputs": [
    {
     "data": {
      "image/png": "[encoded data removed]",
      "text/plain": [
       "<Figure size 1000x4000 with 38 Axes>"
      ]
     },
     "metadata": {},
     "output_type": "display_data"
    }
   ],
   "source": [
    "# Outlier Analysis using Box Plot features to visualize outliers\n",
    "plt.figure(figsize = (10, 40))\n",
    "\n",
    "plotCounter = 1\n",
    "for col in numeric_columns:\n",
    "    plt.subplot(20, 2, plotCounter)\n",
    "    sns.boxplot(housesale_data[col])\n",
    "    plotCounter = plotCounter + 1\n",
    "\n",
    "plt.tight_layout()\n",
    "plt.show()"
   ]
  },
  {
   "cell_type": "markdown",
   "id": "788d087b",
   "metadata": {},
   "source": [
    "<b>Observation:</b>\n",
    "\n",
    "Lot of outliers are visible in LotFrontage, LotArea, MasVnrArea, BsmtFinSF2, LowQualFinSF, GrLivArea, WoodDeckSF, OpenPorchSF, EnclosedPorch, 3SsnPorch, ScreenPorch, PoolArea, MiscVal\n"
   ]
  },
  {
   "cell_type": "code",
   "execution_count": 25,
   "id": "8e17309f",
   "metadata": {},
   "outputs": [
    {
     "data": {
      "text/plain": [
       "(1460, 74)"
      ]
     },
     "execution_count": 25,
     "metadata": {},
     "output_type": "execute_result"
    }
   ],
   "source": [
    "# Based on above observations, we can drop few columns\n",
    "\n",
    "cols_to_drop = ['PoolArea', 'MiscVal', '3SsnPorch']\n",
    "housesale_data.drop(cols_to_drop, axis = 1, inplace=True)\n",
    "housesale_data.shape"
   ]
  },
  {
   "cell_type": "code",
   "execution_count": 26,
   "id": "d941b325",
   "metadata": {},
   "outputs": [
    {
     "data": {
      "text/plain": [
       "(1275, 74)"
      ]
     },
     "execution_count": 26,
     "metadata": {},
     "output_type": "execute_result"
    }
   ],
   "source": [
    "# Drop outliers for all numeric features using IQR method\n",
    "\n",
    "numerical_columns = housesale_data.select_dtypes(exclude=object).columns\n",
    "\n",
    "def drop_outlier_rows(dataset, col):\n",
    "    Q1 = dataset[col].quantile(.05)\n",
    "    Q3 = dataset[col].quantile(.95)\n",
    "    IQR = Q3 - Q1\n",
    "    lower_Range = Q1 - (1.5 * IQR)\n",
    "    upper_Range = Q3 + (1.5 * IQR)\n",
    "    dataset = dataset[(dataset[col] >= lower_Range) & (dataset[col] <= upper_Range)]\n",
    "    return dataset\n",
    "\n",
    "for col in numerical_columns:\n",
    "    housesale_data = drop_outlier_rows(housesale_data, col)\n",
    "\n",
    "# Data after removing rows\n",
    "housesale_data.shape"
   ]
  },
  {
   "cell_type": "markdown",
   "id": "757eefb3",
   "metadata": {},
   "source": [
    "#### Checking Correlated Variables"
   ]
  },
  {
   "cell_type": "code",
   "execution_count": null,
   "id": "6411d8af",
   "metadata": {},
   "outputs": [],
   "source": [
    "# plot correlation graph\n",
    "\n",
    "plt.figure(figsize = (25, 20))\n",
    "\n",
    "# mask = np.triu(np.ones_like(housesale_data.corr(), dtype=np.bool))\n",
    "sns.heatmap(housesale_data.corr(),  annot = True)\n",
    "\n",
    "plt.show()"
   ]
  },
  {
   "cell_type": "markdown",
   "id": "7cd35e4f",
   "metadata": {},
   "source": [
    "<b>Observations:</b>\n",
    "    \n",
    "- 1stFlrSF is related to TotalBsmtSf \n",
    "- TotRmsAbvGrd is related to GrLivArea \n",
    "- GarageYrBlt is realted to YearBlt \n",
    "- GarageArea is related to GarageCars \n",
    "- SalePrice is related to OverallQual, GrLivArea, GarageCars, GarageArea, TotalRmsAbvGrd, TotalBsmtSf, 1stFlrSf, FullBath"
   ]
  },
  {
   "cell_type": "code",
   "execution_count": null,
   "id": "307de8a9",
   "metadata": {},
   "outputs": [],
   "source": [
    "# According to above observations, removing some of the correlated columns\n",
    "\n",
    "col_names_related = ['TotRmsAbvGrd', 'GarageYrBlt', 'GarageArea']\n",
    "housesale_data.drop(col_names_related, axis = 1, inplace=True)\n",
    "housesale_data.shape"
   ]
  },
  {
   "cell_type": "markdown",
   "id": "55072c0d",
   "metadata": {},
   "source": [
    "# <u>Step 2: Visualising the Data</u>"
   ]
  },
  {
   "cell_type": "markdown",
   "id": "33758214",
   "metadata": {},
   "source": [
    "### Performing Exploratory Data Analysis"
   ]
  },
  {
   "cell_type": "markdown",
   "id": "abb77633",
   "metadata": {},
   "source": [
    "### Analysing Target Variable - SalePrice"
   ]
  },
  {
   "cell_type": "code",
   "execution_count": null,
   "id": "7f240200",
   "metadata": {},
   "outputs": [],
   "source": [
    "sns.distplot(housesale_data['SalePrice'])"
   ]
  },
  {
   "cell_type": "markdown",
   "id": "59db51bf",
   "metadata": {},
   "source": [
    "<b>Since the Saleprice figures are skewed towards left, we will apply the log transformation to obtain a centralized data</b>"
   ]
  },
  {
   "cell_type": "code",
   "execution_count": null,
   "id": "4ed95ee0",
   "metadata": {},
   "outputs": [],
   "source": [
    "#Log Transformation\n",
    "housesale_data['SalePrice']=np.log1p(housesale_data['SalePrice'])"
   ]
  },
  {
   "cell_type": "code",
   "execution_count": null,
   "id": "df2c3fc8",
   "metadata": {},
   "outputs": [],
   "source": [
    "sns.distplot(housesale_data['SalePrice'])"
   ]
  },
  {
   "cell_type": "markdown",
   "id": "f406276b",
   "metadata": {},
   "source": [
    "### Analysing Numerical Variables"
   ]
  },
  {
   "cell_type": "code",
   "execution_count": null,
   "id": "0ba47f3b",
   "metadata": {},
   "outputs": [],
   "source": [
    "numeric_columns = housesale_data.select_dtypes(exclude=object).columns\n",
    "\n",
    "# Plotting Scatter plots to understand feature trend with sale price\n",
    "plt.figure(figsize=(10, 40))\n",
    "\n",
    "plotCounter = 1\n",
    "for col in numeric_columns:\n",
    "    plt.subplot(16, 2, plotCounter)\n",
    "    sns.scatterplot(x = col, y = 'SalePrice', data = housesale_data)\n",
    "    plotCounter = plotCounter + 1\n",
    "\n",
    "plt.tight_layout()\n",
    "plt.show()\n"
   ]
  },
  {
   "cell_type": "markdown",
   "id": "c32ed8ce",
   "metadata": {},
   "source": [
    "<b>Observations:</b>\n",
    "    \n",
    "- LotFrontage, LotArea, GrLivArea, GarageArea are few of the features that show a linear trend with salePrice\n",
    "- KitchenAbvGr, LowQualFinSF features have single vertical bar in graph - that shows all values for these features are same, and these can be dropped"
   ]
  },
  {
   "cell_type": "code",
   "execution_count": null,
   "id": "3a8cd572",
   "metadata": {},
   "outputs": [],
   "source": [
    "# Based on above observations, few features can be dropped\n",
    "col_names_with_all_values_same = ['LowQualFinSF', 'KitchenAbvGr']\n",
    "housesale_data.drop(col_names_with_all_values_same, axis = 1, inplace=True)\n",
    "housesale_data.shape"
   ]
  },
  {
   "cell_type": "markdown",
   "id": "d9aad618",
   "metadata": {},
   "source": [
    "### Analysing Categorical Variables"
   ]
  },
  {
   "cell_type": "code",
   "execution_count": null,
   "id": "2d2188c2",
   "metadata": {},
   "outputs": [],
   "source": [
    "category_columns = housesale_data.select_dtypes(include=object).columns\n",
    "print('Total Category Columns present are :' + str(len(category_columns)))"
   ]
  },
  {
   "cell_type": "code",
   "execution_count": null,
   "id": "1c0ce9b2",
   "metadata": {},
   "outputs": [],
   "source": [
    "# Plotting histogram plots to understand feature distribution\n",
    "plt.figure(figsize=(10, 40))\n",
    "\n",
    "plotCounter = 1\n",
    "for col in category_columns:\n",
    "    plt.subplot(20, 2, plotCounter)\n",
    "    sns.countplot(col, data = housesale_data)\n",
    "    plotCounter = plotCounter + 1\n",
    "\n",
    "plt.tight_layout()\n",
    "plt.show()"
   ]
  },
  {
   "cell_type": "markdown",
   "id": "1e3d61aa",
   "metadata": {},
   "source": [
    "<b>Observations:</b>\n",
    "\n",
    "Street, Utilities, Condition2, Heating, CentralAir, Functional, GarageQual are feature majorly dominated by single category"
   ]
  },
  {
   "cell_type": "code",
   "execution_count": null,
   "id": "271a8e22",
   "metadata": {},
   "outputs": [],
   "source": [
    "# Based on above observations, few columns can be dropped\n",
    "columns_to_drop_aftr_catvar_analysis = ['Street', 'Utilities', 'Condition2', 'Heating', 'CentralAir', 'Functional', 'GarageQual']\n",
    "housesale_data.drop(columns_to_drop_aftr_catvar_analysis, axis = 1, inplace=True)\n",
    "\n",
    "# Data after removing variables\n",
    "housesale_data.shape"
   ]
  },
  {
   "cell_type": "markdown",
   "id": "4a35737b",
   "metadata": {},
   "source": [
    "# <u>Step 3: Data Preparation for modelling</u>"
   ]
  },
  {
   "cell_type": "markdown",
   "id": "8789c13f",
   "metadata": {},
   "source": [
    "## Creating dummy variables"
   ]
  },
  {
   "cell_type": "code",
   "execution_count": null,
   "id": "7c37e303",
   "metadata": {},
   "outputs": [],
   "source": [
    "# Create Dummy variables for all categorical columns\n",
    "\n",
    "cat_columns = housesale_data.select_dtypes(include=object).columns\n",
    "cat_columns"
   ]
  },
  {
   "cell_type": "code",
   "execution_count": null,
   "id": "d045670f",
   "metadata": {},
   "outputs": [],
   "source": [
    "for col in cat_columns:\n",
    "    datasetCol = pd.get_dummies(housesale_data[col], prefix = col, drop_first=True)\n",
    "    housesale_data = pd.concat([housesale_data, datasetCol], axis = 1)\n",
    "    housesale_data.drop(col, axis = 1, inplace = True)\n",
    "\n",
    "housesale_data.head()"
   ]
  },
  {
   "cell_type": "code",
   "execution_count": null,
   "id": "bc9f2354",
   "metadata": {},
   "outputs": [],
   "source": [
    "housesale_data.shape"
   ]
  },
  {
   "cell_type": "code",
   "execution_count": null,
   "id": "8efd6dd1",
   "metadata": {},
   "outputs": [],
   "source": [
    "column_names = housesale_data.columns\n",
    "print(\"Column Names:\")\n",
    "for column_name in column_names:\n",
    "    print(column_name)"
   ]
  },
  {
   "cell_type": "markdown",
   "id": "097f303e",
   "metadata": {},
   "source": [
    "# <u>Step 4: Splitting the Data into Training and Testing Sets</u>"
   ]
  },
  {
   "cell_type": "code",
   "execution_count": null,
   "id": "0455fd22",
   "metadata": {},
   "outputs": [],
   "source": [
    "# Splitting data in training & test sets\n",
    "y = housesale_data.pop('SalePrice')\n",
    "X = housesale_data\n"
   ]
  },
  {
   "cell_type": "code",
   "execution_count": null,
   "id": "07cfeba0",
   "metadata": {},
   "outputs": [],
   "source": [
    "X_train, X_test, y_train, y_test = train_test_split(X, y, train_size = 0.7, random_state = 100)"
   ]
  },
  {
   "cell_type": "code",
   "execution_count": null,
   "id": "3fbaf745",
   "metadata": {},
   "outputs": [],
   "source": [
    "# Printing train & test data\n",
    "print(X_train.shape)\n",
    "print(X_test.shape)\n",
    "print(y_train.shape)\n",
    "print(y_test.shape)"
   ]
  },
  {
   "cell_type": "markdown",
   "id": "39286c8f",
   "metadata": {},
   "source": [
    "## Rescaling required variables"
   ]
  },
  {
   "cell_type": "code",
   "execution_count": null,
   "id": "b877b061",
   "metadata": {},
   "outputs": [],
   "source": [
    "X_train.head()"
   ]
  },
  {
   "cell_type": "code",
   "execution_count": null,
   "id": "47d23346",
   "metadata": {},
   "outputs": [],
   "source": [
    "# Using MinMaxScaler to Rescaling the features/variables\n",
    "scaler = MinMaxScaler()"
   ]
  },
  {
   "cell_type": "code",
   "execution_count": null,
   "id": "dd4461db",
   "metadata": {},
   "outputs": [],
   "source": [
    "# Rescaling all numeric columns\n",
    "numeric_columns = X_train.select_dtypes(exclude=object).columns\n",
    "\n",
    "X_train[numeric_columns] = scaler.fit_transform(X_train[numeric_columns])\n",
    "\n",
    "X_train.head()"
   ]
  },
  {
   "cell_type": "code",
   "execution_count": null,
   "id": "0894bb8d",
   "metadata": {},
   "outputs": [],
   "source": [
    "# Transfoming the test X_test columns, here we just transform and not fit & tranform\n",
    "X_test[numeric_columns] = scaler.transform(X_test[numeric_columns])\n",
    "\n",
    "X_test.head()"
   ]
  },
  {
   "cell_type": "markdown",
   "id": "4fcf5615",
   "metadata": {},
   "source": [
    "# <u>Step 5: Model Building and Evaluation</u>"
   ]
  },
  {
   "cell_type": "code",
   "execution_count": null,
   "id": "f4bee19c",
   "metadata": {},
   "outputs": [],
   "source": [
    "# Common function for regression\n",
    "def calculate_score_metrics(y_train, y_pred_train, y_test, y_pred_test):\n",
    "    metric = []\n",
    "    \n",
    "    r2_train = r2_score(y_train, y_pred_train)\n",
    "    print('R2 score train : ', r2_train)\n",
    "    metric.append(r2_train)\n",
    "\n",
    "    r2_test = r2_score(y_test, y_pred_test)\n",
    "    print('R2 score test  : ', r2_test)\n",
    "    metric.append(r2_test)\n",
    "\n",
    "    rss_train = np.sum(np.square(y_train - y_pred_train))\n",
    "    print('RSS score train : ', rss_train)\n",
    "    metric.append(rss_train)\n",
    "\n",
    "    rss_test = np.sum(np.square(y_test - y_pred_test))\n",
    "    print('RSS score test  : ', rss_test)\n",
    "    metric.append(rss_test)\n",
    "\n",
    "    mse_train = mean_squared_error(y_train, y_pred_train)\n",
    "    print('MSE score train : ', mse_train)\n",
    "    metric.append(mse_train ** 0.5)\n",
    "\n",
    "    mse_test = mean_squared_error(y_test, y_pred_test)\n",
    "    print('MSE score test  : ', mse_test)\n",
    "    metric.append(mse_test ** 0.5)\n",
    "    \n",
    "    return metric"
   ]
  },
  {
   "cell_type": "code",
   "execution_count": null,
   "id": "1cd3e3a7",
   "metadata": {},
   "outputs": [],
   "source": [
    "# Running RFE \n",
    "# Since there are more than 250 variables for analysis, we will run RFE to select some that have high predictive power\n",
    "lm = LinearRegression()\n",
    "lm.fit(X_train, y_train)\n",
    " # running RFE for top 100 variables\n",
    "rfe = RFE(lm, n_features_to_select=100)            \n",
    "rfe = rfe.fit(X_train, y_train)"
   ]
  },
  {
   "cell_type": "code",
   "execution_count": null,
   "id": "dbd89d34",
   "metadata": {},
   "outputs": [],
   "source": [
    "# Check the ranks\n",
    "list(zip(X_train.columns,rfe.support_,rfe.ranking_))"
   ]
  },
  {
   "cell_type": "code",
   "execution_count": null,
   "id": "3f580eda",
   "metadata": {},
   "outputs": [],
   "source": [
    "# Select the top 100 variables\n",
    "\n",
    "col = X_train.columns[rfe.support_]\n",
    "col"
   ]
  },
  {
   "cell_type": "code",
   "execution_count": null,
   "id": "26db6a65",
   "metadata": {},
   "outputs": [],
   "source": [
    "X_train.columns[~rfe.support_]"
   ]
  },
  {
   "cell_type": "code",
   "execution_count": null,
   "id": "75805fe6",
   "metadata": {},
   "outputs": [],
   "source": [
    "# Creating X_test dataframe with RFE selected variables\n",
    "X_train_rfe = X_train[col]"
   ]
  },
  {
   "cell_type": "code",
   "execution_count": null,
   "id": "2470cab8",
   "metadata": {},
   "outputs": [],
   "source": [
    "X_train_rfe = pd.DataFrame(X_train[col])"
   ]
  },
  {
   "cell_type": "code",
   "execution_count": null,
   "id": "b8959a80",
   "metadata": {},
   "outputs": [],
   "source": [
    "X_train_rfe.head()"
   ]
  },
  {
   "cell_type": "code",
   "execution_count": null,
   "id": "1ddd524d",
   "metadata": {},
   "outputs": [],
   "source": [
    "X_train_rfe.shape"
   ]
  },
  {
   "cell_type": "code",
   "execution_count": null,
   "id": "37af6bcd",
   "metadata": {},
   "outputs": [],
   "source": [
    "# predict\n",
    "y_pred_train = lm.predict(X_train)\n",
    "y_pred_test = lm.predict(X_test)\n",
    "\n",
    "metric_linear_regression = calculate_score_metrics(y_train, y_pred_train, y_test, y_pred_test)"
   ]
  },
  {
   "cell_type": "markdown",
   "id": "052ea4c4",
   "metadata": {},
   "source": [
    "## Since the Test R2 is too low, we will check for some alternate methods of Regression"
   ]
  },
  {
   "cell_type": "code",
   "execution_count": null,
   "id": "88ba021f",
   "metadata": {},
   "outputs": [],
   "source": [
    "######################################################################\n",
    "\n",
    "# add constant\n",
    "X_train_sm = sm.add_constant(X_train)\n",
    "X_test_sm = sm.add_constant(X_test)\n",
    "\n",
    "# create model\n",
    "lr = sm.OLS(y_train, X_train_sm)\n",
    " \n",
    "#fit\n",
    "lm = lr.fit()\n",
    "\n",
    "# summary\n",
    "lm.summary()"
   ]
  },
  {
   "cell_type": "code",
   "execution_count": null,
   "id": "3ee4010c",
   "metadata": {},
   "outputs": [],
   "source": [
    "# Calculate score metrics - R2 Score, RSS, RSME\n",
    "y_pred_train = lm.predict(X_train_sm)\n",
    "y_pred_test = lm.predict(X_test_sm)\n",
    "\n",
    "metric_linear_regression = calculate_score_metrics(y_train, y_pred_train, y_test, y_pred_test)"
   ]
  },
  {
   "cell_type": "code",
   "execution_count": null,
   "id": "d2fc47d8",
   "metadata": {},
   "outputs": [],
   "source": [
    "# Residual analysis\n",
    "y_res = y_train - y_pred_train # Residuals\n",
    "\n",
    "# Residual v/s predictions plot\n",
    "plt.scatter(y_pred_train , y_res)\n",
    "plt.axhline(y=0, color='r', linestyle=':')\n",
    "plt.show()"
   ]
  },
  {
   "cell_type": "code",
   "execution_count": null,
   "id": "32694d61",
   "metadata": {},
   "outputs": [],
   "source": [
    "# Distribution of errors\n",
    "p = sns.distplot(y_res,kde=True)\n",
    "\n",
    "p = plt.title('Normality of error terms/residuals')\n",
    "plt.xlabel(\"Residuals\")\n",
    "plt.show()\n",
    "\n",
    "######################################################################"
   ]
  },
  {
   "cell_type": "markdown",
   "id": "a2204bcf",
   "metadata": {},
   "source": [
    "# <u>Step 6: Ridge Regression</u>"
   ]
  },
  {
   "cell_type": "markdown",
   "id": "d74bb11f",
   "metadata": {},
   "source": [
    "Let's now try predicting house prices using ridge regression."
   ]
  },
  {
   "cell_type": "code",
   "execution_count": null,
   "id": "2bb73f11",
   "metadata": {},
   "outputs": [],
   "source": [
    "# list of alphas to tune - if value too high it will lead to underfitting, if it is too low, \n",
    "# it will not handle the overfitting\n",
    "params = {'alpha': [0.0001, 0.001, 0.01, 0.05, 0.1, \n",
    " 0.2, 0.3, 0.4, 0.5, 0.6, 0.7, 0.8, 0.9, 1.0, 2.0, 3.0, \n",
    " 4.0, 5.0, 6.0, 7.0, 8.0, 9.0, 10.0, 20, 50, 100, 500, 1000 ]}\n",
    "\n",
    "ridge = Ridge()\n",
    "\n",
    "# cross validation\n",
    "folds = 5\n",
    "model_cv = GridSearchCV(estimator = ridge, \n",
    "                        param_grid = params, \n",
    "                        scoring= 'neg_mean_absolute_error',  \n",
    "                        cv = folds, \n",
    "                        return_train_score=True,\n",
    "                        verbose = 1)            \n",
    "model_cv.fit(X_train, y_train)"
   ]
  },
  {
   "cell_type": "code",
   "execution_count": null,
   "id": "212c2841",
   "metadata": {},
   "outputs": [],
   "source": [
    "cv_results = pd.DataFrame(model_cv.cv_results_)\n",
    "cv_results = cv_results[cv_results['param_alpha']<=5]\n",
    "cv_results.head()"
   ]
  },
  {
   "cell_type": "code",
   "execution_count": null,
   "id": "831d97ab",
   "metadata": {},
   "outputs": [],
   "source": [
    "# plotting mean test and train scoes with alpha \n",
    "cv_results['param_alpha'] = cv_results['param_alpha'].astype('int32')\n",
    "\n",
    "# plotting\n",
    "plt.plot(cv_results['param_alpha'], cv_results['mean_train_score'])\n",
    "plt.plot(cv_results['param_alpha'], cv_results['mean_test_score'])\n",
    "plt.xlabel('alpha')\n",
    "plt.ylabel('Negative Mean Absolute Error')\n",
    "plt.title(\"Negative Mean Absolute Error and alpha\")\n",
    "plt.legend(['train score', 'test score'], loc='upper left')\n",
    "plt.show()\n"
   ]
  },
  {
   "cell_type": "markdown",
   "id": "d5437d2a",
   "metadata": {},
   "source": [
    "### Since the Negative Mean Absolute Error stabilises at alpha = 2, we will choose this for further analysis"
   ]
  },
  {
   "cell_type": "code",
   "execution_count": null,
   "id": "ba503132",
   "metadata": {},
   "outputs": [],
   "source": [
    "# Printing the best hyperparameter alpha\n",
    "print(model_cv.best_params_)"
   ]
  },
  {
   "cell_type": "code",
   "execution_count": null,
   "id": "38e697af",
   "metadata": {},
   "outputs": [],
   "source": [
    "# Fitting Ridge model for best alpha\n",
    "alpha = 2.0\n",
    "ridge = Ridge(alpha=alpha)\n",
    "\n",
    "ridge.fit(X_train, y_train)\n",
    "print(ridge.coef_)"
   ]
  },
  {
   "cell_type": "code",
   "execution_count": null,
   "id": "b062cefc",
   "metadata": {},
   "outputs": [],
   "source": [
    "# ridge model parameters\n",
    "model_parameters = list(ridge.coef_)\n",
    "model_parameters.insert(0, ridge.intercept_)\n",
    "model_parameters = [round(x, 3) for x in model_parameters]\n",
    "cols = X.columns\n",
    "cols = cols.insert(0, \"constant\")\n",
    "list(zip(cols, model_parameters))"
   ]
  },
  {
   "cell_type": "code",
   "execution_count": null,
   "id": "40d734d4",
   "metadata": {},
   "outputs": [],
   "source": [
    "# ridge regression\n",
    "lm = Ridge(alpha=2)\n",
    "lm.fit(X_train, y_train)\n",
    "\n",
    "# predict\n",
    "y_pred_train = lm.predict(X_train)\n",
    "y_pred_test = lm.predict(X_test)\n",
    "\n",
    "metric_ridge_regression = calculate_score_metrics(y_train, y_pred_train, y_test, y_pred_test)"
   ]
  },
  {
   "cell_type": "code",
   "execution_count": null,
   "id": "556c50a4",
   "metadata": {},
   "outputs": [],
   "source": [
    "# Residual analysis\n",
    "y_res = y_train - y_pred_train # Residuals\n",
    "\n",
    "# Residual v/s predictions plot\n",
    "plt.scatter(y_pred_train , y_res)\n",
    "plt.axhline(y=0, color='r', linestyle=':')\n",
    "plt.show()"
   ]
  },
  {
   "cell_type": "code",
   "execution_count": null,
   "id": "c7866b71",
   "metadata": {},
   "outputs": [],
   "source": [
    "# Distribution of errors\n",
    "p = sns.distplot(y_res,kde=True)\n",
    "\n",
    "p = plt.title('Normality of error terms/residuals')\n",
    "plt.xlabel(\"Residuals\")\n",
    "plt.show()"
   ]
  },
  {
   "cell_type": "code",
   "execution_count": null,
   "id": "dee29f23",
   "metadata": {},
   "outputs": [],
   "source": [
    "# Create a dataframe for Ridge Coefficients\n",
    "mod_ridge = list(zip(cols, model_parameters))"
   ]
  },
  {
   "cell_type": "code",
   "execution_count": null,
   "id": "d5a74e44",
   "metadata": {},
   "outputs": [],
   "source": [
    "params_ridge = pd.DataFrame(mod_ridge)\n",
    "params_ridge.columns = ['Variable', 'Coeff']\n",
    "res=params_ridge.sort_values(by=['Coeff'], ascending = False)\n",
    "res.head(20)"
   ]
  },
  {
   "cell_type": "code",
   "execution_count": null,
   "id": "da736747",
   "metadata": {},
   "outputs": [],
   "source": [
    "# Sorting the coefficients in ascending order\n",
    "params_ridge = params_ridge.sort_values((['Coeff']), axis = 0, ascending = False)\n",
    "params_ridge"
   ]
  },
  {
   "cell_type": "code",
   "execution_count": null,
   "id": "2480c661",
   "metadata": {},
   "outputs": [],
   "source": [
    "## since there were few coefficients at 0, we removed them from features\n",
    "params_ridge = pd.DataFrame(params_ridge[(params_ridge['Coeff'] != 0)])\n",
    "params_ridge"
   ]
  },
  {
   "cell_type": "code",
   "execution_count": null,
   "id": "7e5aeb52",
   "metadata": {},
   "outputs": [],
   "source": [
    "params_ridge.shape"
   ]
  },
  {
   "cell_type": "markdown",
   "id": "33332746",
   "metadata": {},
   "source": [
    "# <u>Step 7: Lasso Regression</u>"
   ]
  },
  {
   "cell_type": "code",
   "execution_count": null,
   "id": "db46d16c",
   "metadata": {},
   "outputs": [],
   "source": [
    "# Applying Lasso\n",
    "\n",
    "# list of alphas to tune\n",
    "params = {'alpha': [0.0001, 0.001, 0.01, 0.05, 0.1, \n",
    " 0.2, 0.3, 0.4, 0.5, 0.6, 0.7, 0.8, 0.9, 1.0, 2.0, 3.0, \n",
    " 4.0, 5.0, 6.0, 7.0, 8.0, 9.0, 10.0, 20, 50, 100, 500, 1000 ]}\n",
    "\n",
    "lasso = Lasso()\n",
    "\n",
    "# cross validation\n",
    "folds = 5\n",
    "model_cv = GridSearchCV(estimator = lasso, \n",
    "                        param_grid = params, \n",
    "                        scoring= 'neg_mean_absolute_error', \n",
    "                        cv = folds, \n",
    "                        return_train_score=True,\n",
    "                        verbose = 1)            \n",
    "\n",
    "model_cv.fit(X_train, y_train) "
   ]
  },
  {
   "cell_type": "code",
   "execution_count": null,
   "id": "921ec45f",
   "metadata": {},
   "outputs": [],
   "source": [
    "# cv_results\n",
    "cv_results = pd.DataFrame(model_cv.cv_results_)\n",
    "cv_results = cv_results[cv_results['param_alpha']<=1]\n",
    "cv_results.head()"
   ]
  },
  {
   "cell_type": "code",
   "execution_count": null,
   "id": "6383a860",
   "metadata": {},
   "outputs": [],
   "source": [
    "# plotting mean test and train scoes with alpha \n",
    "cv_results['param_alpha'] = cv_results['param_alpha'].astype('float32')\n",
    "\n",
    "# plotting\n",
    "plt.plot(cv_results['param_alpha'], cv_results['mean_train_score'])\n",
    "plt.plot(cv_results['param_alpha'], cv_results['mean_test_score'])\n",
    "plt.xlabel('alpha')\n",
    "plt.ylabel('Negative Mean Absolute Error')\n",
    "plt.title(\"Negative Mean Absolute Error and alpha\")\n",
    "plt.legend(['train score', 'test score'], loc='upper left')\n",
    "plt.show()"
   ]
  },
  {
   "cell_type": "markdown",
   "id": "5aa25dc9",
   "metadata": {},
   "source": [
    "From the above graph we can see that the Negative Mean Absolute Error is quite low at alpha = 0.4 and stabilises thereafter,\n",
    "\n",
    "but we will choose a low value of alpha to balance the trade-off between Bias-Variance\n",
    "\n",
    "and to get the coefficients of smallest of features."
   ]
  },
  {
   "cell_type": "code",
   "execution_count": null,
   "id": "b6d6a53b",
   "metadata": {},
   "outputs": [],
   "source": [
    "# Printing the best hyperparameter alpha\n",
    "print(model_cv.best_params_)"
   ]
  },
  {
   "cell_type": "code",
   "execution_count": null,
   "id": "1d4b1ed4",
   "metadata": {},
   "outputs": [],
   "source": [
    "# At alpha = 0.001 even the smallest of negative coefficients that have some predictive power towards 'SalePrice' have been generated\n",
    "\n",
    "alpha = 0.001\n",
    "lasso = Lasso(alpha=alpha)\n",
    "\n",
    "lasso.fit(X_train, y_train)\n",
    "lasso.coef_"
   ]
  },
  {
   "cell_type": "markdown",
   "id": "d9b644cd",
   "metadata": {},
   "source": [
    "### The advantage of this technique is clearly visible here as Lasso brings the coefficients of insignificant features to zero"
   ]
  },
  {
   "cell_type": "code",
   "execution_count": null,
   "id": "37d6f963",
   "metadata": {},
   "outputs": [],
   "source": [
    "# lasso model parameters\n",
    "model_parameters = list(lasso.coef_ )\n",
    "model_parameters.insert(0, lasso.intercept_)\n",
    "model_parameters = [round(x, 3) for x in model_parameters]\n",
    "cols = X.columns\n",
    "cols = cols.insert(0, \"constant\")\n",
    "list(zip(cols, model_parameters))"
   ]
  },
  {
   "cell_type": "code",
   "execution_count": null,
   "id": "6d290512",
   "metadata": {},
   "outputs": [],
   "source": [
    "# prediction on the test set(Using R2)\n",
    "y_pred_train = lasso.predict(X_train)\n",
    "y_pred_test = lasso.predict(X_test)"
   ]
  },
  {
   "cell_type": "code",
   "execution_count": null,
   "id": "50d97df2",
   "metadata": {},
   "outputs": [],
   "source": [
    "# Calculate score metrics - R2 Score, RSS, RSME\n",
    "metric_lasso_regression = calculate_score_metrics(y_train, y_pred_train, y_test, y_pred_test)"
   ]
  },
  {
   "cell_type": "code",
   "execution_count": null,
   "id": "1edfb9ef",
   "metadata": {},
   "outputs": [],
   "source": [
    "# Residual analysis\n",
    "y_res = y_train - y_pred_train # Residuals\n",
    "\n",
    "# Residual v/s predictions plot\n",
    "plt.scatter(y_pred_train , y_res)\n",
    "plt.axhline(y=0, color='r', linestyle=':')\n",
    "plt.show()"
   ]
  },
  {
   "cell_type": "code",
   "execution_count": null,
   "id": "370b1c3b",
   "metadata": {},
   "outputs": [],
   "source": [
    "# Distribution of errors\n",
    "p = sns.distplot(y_res,kde=True)\n",
    "\n",
    "p = plt.title('Normality of error terms/residuals')\n",
    "plt.xlabel(\"Residuals\")\n",
    "plt.show()"
   ]
  },
  {
   "cell_type": "code",
   "execution_count": null,
   "id": "e5fa2f74",
   "metadata": {},
   "outputs": [],
   "source": [
    "# Create a dataframe for Ridge Coefficients\n",
    "mod_lasso = list(zip(cols, model_parameters))"
   ]
  },
  {
   "cell_type": "code",
   "execution_count": null,
   "id": "07e91fa3",
   "metadata": {},
   "outputs": [],
   "source": [
    "params_lasso = pd.DataFrame(mod_lasso)\n",
    "params_lasso.columns = ['Variable', 'Coeff']\n",
    "res=params_lasso.sort_values(by=['Coeff'], ascending = False)\n",
    "res.head(20)"
   ]
  },
  {
   "cell_type": "code",
   "execution_count": null,
   "id": "fe7db025",
   "metadata": {},
   "outputs": [],
   "source": [
    "# Sorting the coefficients in ascending order\n",
    "params_lasso = params_lasso.sort_values((['Coeff']), axis = 0, ascending = False)\n",
    "params_lasso"
   ]
  },
  {
   "cell_type": "code",
   "execution_count": null,
   "id": "8616abdd",
   "metadata": {},
   "outputs": [],
   "source": [
    "## since there were few coefficients at 0, we removed them from features\n",
    "params_lasso = pd.DataFrame(params_lasso[(params_lasso['Coeff'] != 0)])\n",
    "params_lasso"
   ]
  },
  {
   "cell_type": "code",
   "execution_count": null,
   "id": "82175be4",
   "metadata": {},
   "outputs": [],
   "source": [
    "params_lasso.shape"
   ]
  },
  {
   "cell_type": "markdown",
   "id": "816251be",
   "metadata": {},
   "source": [
    "# <u>Step 8: Model Comparison</u>"
   ]
  },
  {
   "cell_type": "code",
   "execution_count": null,
   "id": "ce58cfa8",
   "metadata": {},
   "outputs": [],
   "source": [
    "# Creating a table which contain all the metrics\n",
    "\n",
    "score_table = {'Metric': ['R2 Score (Train)','R2 Score (Test)','RSS (Train)','RSS (Test)','RMSE (Train)','RMSE (Test)']}\n",
    "score_metric = pd.DataFrame(score_table)\n",
    "\n",
    "lr_metric = pd.Series(metric_linear_regression, name = 'Linear Regression')\n",
    "rg_3_metric = pd.Series(metric_ridge_regression, name = 'Ridge Regression')\n",
    "ls_100_metric = pd.Series(metric_lasso_regression, name = 'Lasso Regression')\n",
    "\n",
    "score_metric = pd.concat([score_metric, lr_metric, rg_3_metric, ls_100_metric], axis = 1)\n",
    "\n",
    "score_metric"
   ]
  },
  {
   "cell_type": "markdown",
   "id": "e10e4314",
   "metadata": {},
   "source": [
    "<b>Observation:</b>\n",
    "\n",
    "Though the model performance by Ridge Regression was better in terms of R2 values of Train and Test, it is better to use Lasso, since it brings and assigns a zero value to insignificant features, enabling us to choose\n",
    "the predictive variables."
   ]
  },
  {
   "cell_type": "markdown",
   "id": "950df777",
   "metadata": {},
   "source": [
    "-----"
   ]
  },
  {
   "cell_type": "markdown",
   "id": "9545e17e",
   "metadata": {},
   "source": [
    "# <u>Conclusion</u>"
   ]
  },
  {
   "cell_type": "code",
   "execution_count": null,
   "id": "65978fe7",
   "metadata": {},
   "outputs": [],
   "source": [
    "significance_matrix = pd.DataFrame()\n",
    "\n",
    "significance_matrix['Feature Name'] = X_test.columns\n",
    "significance_matrix['Coefficient'] = pd.Series(lasso.coef_)\n",
    "significance_matrix['Absolute Coefficient'] = pd.Series(np.abs(lasso.coef_))\n",
    "\n",
    "significance_matrix = significance_matrix.loc[significance_matrix['Coefficient'] != 0]\n",
    "\n",
    "significance_matrix.sort_values(by=['Absolute Coefficient'], inplace=True, ascending=False)\n",
    "\n",
    "significance_matrix.head(20)"
   ]
  },
  {
   "cell_type": "markdown",
   "id": "55df78bc",
   "metadata": {},
   "source": [
    "Significant top 20 features that affect house price are below, and there significance is as shown by Coefficients above"
   ]
  },
  {
   "cell_type": "markdown",
   "id": "a6528c58",
   "metadata": {},
   "source": [
    "---"
   ]
  },
  {
   "cell_type": "markdown",
   "id": "9018b145",
   "metadata": {},
   "source": [
    "<b>INFERENCE</b>\n",
    "\n",
    "Surprise Housing can keep track of below predictors affecting the price of the house.\n",
    "\n",
    "<b>Top 5 Positive Coefficient Variables - suggest a high sale value</b>\n",
    "\n",
    "- GrLivArea\t: Above grade (ground) living area square feet\n",
    "- OverallQual :\tRates the overall material and finish of the house\n",
    "- TotalBsmtSF : Total square feet of basement area\n",
    "- OverallCond : Rates the overall condition of the house\n",
    "- BsmtFinSF1 : Type 1 (i.e. Rating of basement finished area) finished square feet\n",
    "\n",
    "<b>Top 2 Negative Coefficient Vaiables - suggest a decrease in sale value</b>\n",
    "\n",
    "- houseAge : Age of house at time of sale\n",
    "- GarageCond :\tGarage condition"
   ]
  },
  {
   "cell_type": "markdown",
   "id": "adf13aca",
   "metadata": {},
   "source": [
    "---"
   ]
  },
  {
   "cell_type": "markdown",
   "id": "f228a1f1",
   "metadata": {},
   "source": [
    "## Problem Statement Working"
   ]
  },
  {
   "cell_type": "markdown",
   "id": "6e94dd10",
   "metadata": {},
   "source": [
    "### Question 1: \n",
    "\n",
    "### What will be the changes in the model if you choose double the value of alpha for both ridge and lasso? "
   ]
  },
  {
   "cell_type": "code",
   "execution_count": null,
   "id": "f6d672d7",
   "metadata": {},
   "outputs": [],
   "source": [
    "# Ridge Regression\n",
    "# Fitting Ridge model for alpha = 4.0\n",
    "alpha = 4.0\n",
    "ridge_double_alpha = Ridge(alpha=alpha)\n",
    "ridge_double_alpha.fit(X_train, y_train)"
   ]
  },
  {
   "cell_type": "code",
   "execution_count": null,
   "id": "f0838cc5",
   "metadata": {},
   "outputs": [],
   "source": [
    "# Calculate score metrics - R2 Score, RSS, RSME\n",
    "y_pred_train = ridge_double_alpha.predict(X_train)\n",
    "y_pred_test = ridge_double_alpha.predict(X_test)\n",
    "metric_ridge_regression_double_aphla = calculate_score_metrics(y_train, y_pred_train, y_test, y_pred_test)"
   ]
  },
  {
   "cell_type": "code",
   "execution_count": null,
   "id": "0e688731",
   "metadata": {},
   "outputs": [],
   "source": [
    "# Lasso Regression\n",
    "# Fitting Lasso model for alpha = 200\n",
    "alpha = 0.002\n",
    "lasso_double_alpha = Lasso(alpha=alpha)        \n",
    "lasso_double_alpha.fit(X_train, y_train) "
   ]
  },
  {
   "cell_type": "code",
   "execution_count": null,
   "id": "fc65d34f",
   "metadata": {},
   "outputs": [],
   "source": [
    "# Calculate score metrics - R2 Score, RSS, RSME\n",
    "y_pred_train = lasso_double_alpha.predict(X_train)\n",
    "y_pred_test = lasso_double_alpha.predict(X_test)\n",
    "metric_lasso_regression_double_aphla = calculate_score_metrics(y_train, y_pred_train, y_test, y_pred_test)"
   ]
  },
  {
   "cell_type": "code",
   "execution_count": null,
   "id": "e9e71306",
   "metadata": {},
   "outputs": [],
   "source": [
    "# Model Comparison with double alpha values\n",
    "score_table = {'Metric': ['R2 Score (Train)','R2 Score (Test)','RSS (Train)','RSS (Test)','RMSE (Train)','RMSE (Test)']}\n",
    "\n",
    "score_metric = pd.DataFrame(score_table)\n",
    "\n",
    "rg_metric = pd.Series(metric_ridge_regression, name = 'Ridge Regression (alpha 2)')\n",
    "rg_double_alpha_metric = pd.Series(metric_ridge_regression_double_aphla, name = 'Ridge Regression (alpha 4)')\n",
    "ls_metric = pd.Series(metric_lasso_regression, name = 'Lasso Regression (alpha 0.001)')\n",
    "ls_double_alpha_metric = pd.Series(metric_lasso_regression_double_aphla, name = 'Lasso Regression (alpha 0.002)')\n",
    "\n",
    "score_metric = pd.concat([score_metric, rg_metric, rg_double_alpha_metric, ls_metric, ls_double_alpha_metric], axis = 1)\n",
    "\n",
    "score_metric"
   ]
  },
  {
   "cell_type": "code",
   "execution_count": null,
   "id": "75ba1642",
   "metadata": {},
   "outputs": [],
   "source": [
    "significance_matrix = pd.DataFrame()\n",
    "\n",
    "significance_matrix['Feature Name'] = X_test.columns\n",
    "significance_matrix['Coefficient'] = pd.Series(lasso_double_alpha.coef_)\n",
    "significance_matrix['Absolute Coefficient'] = pd.Series(np.abs(lasso_double_alpha.coef_))\n",
    "\n",
    "significance_matrix = significance_matrix.loc[significance_matrix['Coefficient'] != 0]\n",
    "\n",
    "significance_matrix.sort_values(by=['Absolute Coefficient'], inplace=True, ascending=False)\n",
    "\n",
    "significance_matrix.head(10)"
   ]
  },
  {
   "cell_type": "markdown",
   "id": "6841d539",
   "metadata": {},
   "source": [
    "### Question 3:\n",
    "\n",
    "### After building the model, you realised that the five most important predictor variables in the lasso model are not available in the incoming data. You will now have to create another model excluding the five most important predictor variables. Which are the five most important predictor variables now?"
   ]
  },
  {
   "cell_type": "markdown",
   "id": "545334b3",
   "metadata": {},
   "source": [
    "Building lasso by removing top 5 suggested variables as they will not be part of incoming data & will see what are next variables"
   ]
  },
  {
   "cell_type": "code",
   "execution_count": null,
   "id": "f29dbc52",
   "metadata": {},
   "outputs": [],
   "source": [
    "# Top 5 predictor variables in lasso model are as below which we will drop from dataset and rebuild the model\n",
    "# Note: considering absolute coefficient value of the variables so negatives one to is considered\n",
    "cols_to_drop = ['GrLivArea', 'OverallQual', 'TotalBsmtSF', 'OverallCond', 'houseAge']\n",
    "\n",
    "print('Before :', X_train.shape)\n",
    "X_train.drop(cols_to_drop, axis = 1, inplace=True)\n",
    "X_test.drop(cols_to_drop, axis = 1, inplace=True)\n",
    "print('After :', X_train.shape)"
   ]
  },
  {
   "cell_type": "code",
   "execution_count": null,
   "id": "8f9c57ed",
   "metadata": {},
   "outputs": [],
   "source": [
    "lasso = Lasso()\n",
    "model_cv = GridSearchCV(estimator = lasso, \n",
    "                        param_grid = params, \n",
    "                        scoring= 'neg_mean_absolute_error', \n",
    "                        cv = folds, \n",
    "                        return_train_score=True,\n",
    "                        verbose = 1)\n",
    "model_cv.fit(X_train, y_train) "
   ]
  },
  {
   "cell_type": "code",
   "execution_count": null,
   "id": "b7d98745",
   "metadata": {},
   "outputs": [],
   "source": [
    "# cv_results\n",
    "cv_results = pd.DataFrame(model_cv.cv_results_)\n",
    "cv_results = cv_results[cv_results['param_alpha']<=1]\n",
    "cv_results.head()"
   ]
  },
  {
   "cell_type": "code",
   "execution_count": null,
   "id": "4137adc5",
   "metadata": {},
   "outputs": [],
   "source": [
    "# plotting mean test and train scoes with alpha \n",
    "cv_results['param_alpha'] = cv_results['param_alpha'].astype('float32')\n",
    "\n",
    "# plotting\n",
    "plt.plot(cv_results['param_alpha'], cv_results['mean_train_score'])\n",
    "plt.plot(cv_results['param_alpha'], cv_results['mean_test_score'])\n",
    "plt.xlabel('alpha')\n",
    "plt.ylabel('Negative Mean Absolute Error')\n",
    "plt.title(\"Negative Mean Absolute Error and alpha\")\n",
    "plt.legend(['train score', 'test score'], loc='upper left')\n",
    "plt.show()"
   ]
  },
  {
   "cell_type": "code",
   "execution_count": null,
   "id": "e3e1dd9b",
   "metadata": {},
   "outputs": [],
   "source": [
    "# Printing the best hyperparameter alpha\n",
    "print(model_cv.best_params_)"
   ]
  },
  {
   "cell_type": "code",
   "execution_count": null,
   "id": "5a5190a9",
   "metadata": {},
   "outputs": [],
   "source": [
    "# Fitting Lasso model for best alpha\n",
    "alpha = 0.0001\n",
    "lasso_without_best_5_features = Lasso(alpha=alpha)        \n",
    "lasso_without_best_5_features.fit(X_train, y_train) "
   ]
  },
  {
   "cell_type": "code",
   "execution_count": null,
   "id": "7921e86b",
   "metadata": {},
   "outputs": [],
   "source": [
    "# Calculate score metrics - R2 Score, RSS, RSME\n",
    "y_pred_train = lasso_without_best_5_features.predict(X_train)\n",
    "y_pred_test = lasso_without_best_5_features.predict(X_test)\n",
    "metric_lasso_regression_without_best_5 = calculate_score_metrics(y_train, y_pred_train, y_test, y_pred_test)"
   ]
  },
  {
   "cell_type": "code",
   "execution_count": null,
   "id": "ca4575e4",
   "metadata": {},
   "outputs": [],
   "source": [
    "significance_matrix = pd.DataFrame()\n",
    "\n",
    "significance_matrix['Feature Name'] = X_test.columns\n",
    "significance_matrix['Coefficient'] = pd.Series(lasso_without_best_5_features.coef_)\n",
    "significance_matrix['Absolute Coefficient'] = pd.Series(np.abs(lasso_without_best_5_features.coef_))\n",
    "\n",
    "significance_matrix = significance_matrix.loc[significance_matrix['Coefficient'] != 0]\n",
    "\n",
    "significance_matrix.sort_values(by=['Absolute Coefficient'], inplace=True, ascending=False)\n",
    "\n",
    "significance_matrix.head(10)"
   ]
  },
  {
   "cell_type": "code",
   "execution_count": null,
   "id": "ddf31e1d",
   "metadata": {},
   "outputs": [],
   "source": []
  }
 ],
 "metadata": {
  "kernelspec": {
   "display_name": "Python 3 (ipykernel)",
   "language": "python",
   "name": "python3"
  },
  "language_info": {
   "codemirror_mode": {
    "name": "ipython",
    "version": 3
   },
   "file_extension": ".py",
   "mimetype": "text/x-python",
   "name": "python",
   "nbconvert_exporter": "python",
   "pygments_lexer": "ipython3",
   "version": "3.9.13"
  }
 },
 "nbformat": 4,
 "nbformat_minor": 5
}
